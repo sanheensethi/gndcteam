{
  "nbformat": 4,
  "nbformat_minor": 0,
  "metadata": {
    "colab": {
      "name": "VisulizeFiltersCorrected.ipynb",
      "provenance": [],
      "collapsed_sections": []
    },
    "kernelspec": {
      "name": "python3",
      "display_name": "Python 3"
    },
    "accelerator": "GPU"
  },
  "cells": [
    {
      "cell_type": "markdown",
      "metadata": {
        "id": "nGa_ZVm58SWX",
        "colab_type": "text"
      },
      "source": [
        "**<h1> Download Your Dataset </h1>**"
      ]
    },
    {
      "cell_type": "code",
      "metadata": {
        "id": "PaGtUvjHijJP",
        "colab_type": "code",
        "colab": {}
      },
      "source": [
        " #Downloading Dataset"
      ],
      "execution_count": null,
      "outputs": []
    },
    {
      "cell_type": "code",
      "metadata": {
        "id": "aYgTf2T0jBi2",
        "colab_type": "code",
        "colab": {}
      },
      "source": [
        " #Inserting Libraries\n",
        "import numpy as np\n",
        "import random\n",
        "import shutil\n",
        "import pickle\n",
        "import cv2\n",
        "from os import listdir\n",
        "from keras.preprocessing.image import ImageDataGenerator\n",
        "import matplotlib.pyplot as plt"
      ],
      "execution_count": null,
      "outputs": []
    },
    {
      "cell_type": "markdown",
      "metadata": {
        "id": "8UsR-8BV828P",
        "colab_type": "text"
      },
      "source": [
        "**Initializing Dataset Path :**<br>\n",
        "Fill the path of your dataset"
      ]
    },
    {
      "cell_type": "code",
      "metadata": {
        "id": "rHSr3pHtjJak",
        "colab_type": "code",
        "colab": {}
      },
      "source": [
        "directory_root = str(input(\"Enter Dataset path:\"))"
      ],
      "execution_count": null,
      "outputs": []
    },
    {
      "cell_type": "code",
      "metadata": {
        "id": "A0I-GvEojNUv",
        "colab_type": "code",
        "colab": {}
      },
      "source": [
        "root_dir = listdir(directory_root)\n",
        "print(\"Number Of Folders : \" + str(len(root_dir)))"
      ],
      "execution_count": null,
      "outputs": []
    },
    {
      "cell_type": "markdown",
      "metadata": {
        "id": "PU2Biogl9XeC",
        "colab_type": "text"
      },
      "source": [
        "<i> Using ImageDataGenerator </i>"
      ]
    },
    {
      "cell_type": "markdown",
      "metadata": {
        "id": "VAprig049jKO",
        "colab_type": "text"
      },
      "source": [
        "**Viewing ImageDataGenerator**"
      ]
    },
    {
      "cell_type": "code",
      "metadata": {
        "id": "ml0-Pe3a92AO",
        "colab_type": "code",
        "colab": {}
      },
      "source": [
        "def generate_plot_pics(datagen,orig_img):\n",
        "    dir_augmented_data = \"/content/showGeneratedImage\"\n",
        "    try:\n",
        "        ## if the preview folder does not exist, create\n",
        "        os.mkdir(dir_augmented_data)\n",
        "    except:\n",
        "        ## if the preview folder exists, then remove\n",
        "        ## the contents (pictures) in the folder\n",
        "        for item in os.listdir(dir_augmented_data):\n",
        "            os.remove(dir_augmented_data + \"/\" + item)\n",
        " \n",
        "    ## convert the original image to array\n",
        "    x = img_to_array(orig_img)\n",
        "    ## reshape (Sampke, Nrow, Ncol, 3) 3 = R, G or B\n",
        "    x = x.reshape((1,) + x.shape)\n",
        "    ## -------------------------- ##\n",
        "    ## randomly generate pictures\n",
        "    ## -------------------------- ##\n",
        "    i = 0\n",
        "    Nplot = 8\n",
        "    for batch in datagen.flow(x,batch_size=1,\n",
        "                          save_to_dir=dir_augmented_data,\n",
        "                          save_prefix=\"pic\",\n",
        "                          save_format='jpeg'):\n",
        "        i += 1\n",
        "        if i > Nplot - 1: ## generate 8 pictures \n",
        "            break\n",
        " \n",
        "    ## -------------------------- ##\n",
        "    ##   plot the generated data\n",
        "    ## -------------------------- ##\n",
        "    fig = plt.figure(figsize=(8, 6))\n",
        "    fig.subplots_adjust(hspace=0.02,wspace=0.01,\n",
        "                    left=0,right=1,bottom=0, top=1)\n",
        " \n",
        "    ## original picture\n",
        "    ax = fig.add_subplot(3, 3, 1,xticks=[],yticks=[])        \n",
        "    ax.imshow(orig_img)\n",
        "    ax.set_title(\"original\")\n",
        " \n",
        "    i = 2\n",
        "    for imgnm in os.listdir(dir_augmented_data):\n",
        "        ax = fig.add_subplot(3, 3, i,xticks=[],yticks=[]) \n",
        "        img = load_img(dir_augmented_data + \"/\" + imgnm)\n",
        "        ax.imshow(img)\n",
        "        i += 1\n",
        "    plt.show()"
      ],
      "execution_count": null,
      "outputs": []
    },
    {
      "cell_type": "markdown",
      "metadata": {
        "id": "PbQCPAyq_TCx",
        "colab_type": "text"
      },
      "source": [
        "Loading Image Path :"
      ]
    },
    {
      "cell_type": "code",
      "metadata": {
        "id": "nbyNe1aWWUT_",
        "colab_type": "code",
        "colab": {}
      },
      "source": [
        "rn = int(input(\"Options :\\n 0-You will Provide Path of Image \\n 1-Random Image Selector \\n Enter : \"))\n",
        "if rn == 0:\n",
        "    imgPath = str(input(\"Enter Image Path : \"))\n",
        "elif rn == 1:\n",
        "    direcp = str(input(\"Enter exact Directory Path in which images avaliable\"))\n",
        "    rand = random.randint(0,len(listdir(direcp))-1)\n",
        "    imgPath = direcp+\"/\"+listdir(direcp)[rand]\n",
        "else :\n",
        "    print(\"Run Again\")"
      ],
      "execution_count": null,
      "outputs": []
    },
    {
      "cell_type": "code",
      "metadata": {
        "id": "GAMQIXqw-sh8",
        "colab_type": "code",
        "colab": {}
      },
      "source": [
        " from keras.preprocessing.image import load_img\n",
        "import os\n",
        "from keras.preprocessing.image import img_to_array"
      ],
      "execution_count": null,
      "outputs": []
    },
    {
      "cell_type": "code",
      "metadata": {
        "id": "YnllHnMK-VKX",
        "colab_type": "code",
        "colab": {}
      },
      "source": [
        " orig_img = load_img(imgPath)"
      ],
      "execution_count": null,
      "outputs": []
    },
    {
      "cell_type": "markdown",
      "metadata": {
        "id": "7cBUYSrV_oHg",
        "colab_type": "text"
      },
      "source": [
        "<i> Rotation Range </i>"
      ]
    },
    {
      "cell_type": "code",
      "metadata": {
        "id": "O4xGkfgH-xxp",
        "colab_type": "code",
        "colab": {}
      },
      "source": [
        "rrange = float(input(\"Enter Rotation Range : \"))\n",
        "datagen = ImageDataGenerator(rotation_range=rrange)\n",
        "generate_plot_pics(datagen,orig_img)"
      ],
      "execution_count": null,
      "outputs": []
    },
    {
      "cell_type": "markdown",
      "metadata": {
        "id": "f2h5S884Lnti",
        "colab_type": "text"
      },
      "source": [
        "Zoom Range"
      ]
    },
    {
      "cell_type": "code",
      "metadata": {
        "id": "r2wlJGlq_dep",
        "colab_type": "code",
        "colab": {}
      },
      "source": [
        "zrange = float(input(\"Enter Zoom Range from 0 to 1 \\n e.g. 0.5: \\n Enter : \"))\n",
        "datagen = ImageDataGenerator(zoom_range=zrange)\n",
        "generate_plot_pics(datagen,orig_img)"
      ],
      "execution_count": null,
      "outputs": []
    },
    {
      "cell_type": "markdown",
      "metadata": {
        "id": "k9a_qyYXLpsi",
        "colab_type": "text"
      },
      "source": [
        "Width Shift"
      ]
    },
    {
      "cell_type": "code",
      "metadata": {
        "id": "UKGjKPx1_k4V",
        "colab_type": "code",
        "colab": {}
      },
      "source": [
        "wshift = float(input(\"Enter Width Shift Range from 0 to 1 \\n e.g. 0.4 \\n Enter : \"))\n",
        "datagen = ImageDataGenerator(width_shift_range=wshift)\n",
        "generate_plot_pics(datagen,orig_img)"
      ],
      "execution_count": null,
      "outputs": []
    },
    {
      "cell_type": "markdown",
      "metadata": {
        "id": "YNAzjq0OLsEZ",
        "colab_type": "text"
      },
      "source": [
        "Height Shift"
      ]
    },
    {
      "cell_type": "code",
      "metadata": {
        "id": "9AU41-dx_r1w",
        "colab_type": "code",
        "colab": {}
      },
      "source": [
        "hshift = float(input(\"Enter Height Shift Range from 0 to 1 \\n e.g. 0.3 \\n Enter :\"))\n",
        "datagen = ImageDataGenerator(height_shift_range=0.4)\n",
        "generate_plot_pics(datagen,orig_img)"
      ],
      "execution_count": null,
      "outputs": []
    },
    {
      "cell_type": "markdown",
      "metadata": {
        "id": "eB1OC_OrLwux",
        "colab_type": "text"
      },
      "source": [
        "Fill Mode"
      ]
    },
    {
      "cell_type": "code",
      "metadata": {
        "id": "JOO7-Hec_zoo",
        "colab_type": "code",
        "colab": {}
      },
      "source": [
        " \n",
        "hshift = float(input(\"Enter Height Shift Range : \\n Enter : \"))\n",
        "fill = int(input(\"Enter Number to change Fill Mode : \\n 0 - constant \\n 1 - nearest \\n 2 - wrap \\n 3 - reflect\"))\n",
        "if fill == 0:\n",
        "    nfill = \"constant\"\n",
        "elif fill == 1:\n",
        "    nfill = \"nearest\"\n",
        "elif fill == 2:\n",
        "    nfill = \"wrap\"\n",
        "elif fill == 3:\n",
        "    nfill = \"reflect\"\n",
        "else  :\n",
        "    print(\"Run Again, Enter right Input\")\n",
        "datagen = ImageDataGenerator(height_shift_range=hshift,fill_mode=nfill)\n",
        "generate_plot_pics(datagen,orig_img)"
      ],
      "execution_count": null,
      "outputs": []
    },
    {
      "cell_type": "markdown",
      "metadata": {
        "id": "bjQg6G_oL0Qw",
        "colab_type": "text"
      },
      "source": [
        "Shear Range"
      ]
    },
    {
      "cell_type": "code",
      "metadata": {
        "id": "kg4MyV1RAqVt",
        "colab_type": "code",
        "colab": {}
      },
      "source": [
        "srange = float(input(\"Enter Shear Range : \")) \n",
        "datagen = ImageDataGenerator(shear_range=srange)\n",
        "generate_plot_pics(datagen,orig_img)"
      ],
      "execution_count": null,
      "outputs": []
    },
    {
      "cell_type": "markdown",
      "metadata": {
        "id": "rj0nedyoL7Ak",
        "colab_type": "text"
      },
      "source": [
        "Horizontal Flip"
      ]
    },
    {
      "cell_type": "code",
      "metadata": {
        "id": "5Vv5NW29BBS2",
        "colab_type": "code",
        "colab": {}
      },
      "source": [
        "htr = int(input(\"Horizontal Shift \\n 1-True \\n 0-False \\n Enter : \"))\n",
        "if htr == 1:\n",
        "    nhtr = True\n",
        "elif htr == 0:\n",
        "    nhtr = False\n",
        "else :\n",
        "    print(\"Input Again\")\n",
        "datagen = ImageDataGenerator(horizontal_flip=nhtr)\n",
        "generate_plot_pics(datagen,orig_img)"
      ],
      "execution_count": null,
      "outputs": []
    },
    {
      "cell_type": "markdown",
      "metadata": {
        "id": "AGW2tkclL9al",
        "colab_type": "text"
      },
      "source": [
        "Every Attributes Together"
      ]
    },
    {
      "cell_type": "code",
      "metadata": {
        "id": "qvOFg0YoBWTz",
        "colab_type": "code",
        "colab": {}
      },
      "source": [
        " \n",
        "print(\"All Together\")\n",
        "rrange = float(input(\"Enter Rotation Range : \"))\n",
        "zrange = float(input(\"Enter Zoom Range : \"))\n",
        "htr = int(input(\"Horizontal Flip ? \\n 1 - True \\ 0 - False \\n Enter : \"))\n",
        "if htr == 1:\n",
        "    nhtr = True\n",
        "elif htr == 0:\n",
        "    nhtr = False\n",
        "else:\n",
        "    print(\"Run again\")\n",
        " \n",
        "fill = int(input(\"Fill Mode : \\n 0-constant \\n 1-nearest \\n 2-reflect \\n 3-wrap\"))\n",
        "if fill == 0:\n",
        "    nfill = \"constant\"\n",
        "elif fill == 1:\n",
        "    nfill = \"nearest\"\n",
        "elif fill == 2:\n",
        "    nfill = \"reflect\"\n",
        "elif fill == 3:\n",
        "    nfill = \"wrap\"\n",
        "else : \n",
        "    print(\"Run again\")\n",
        " \n",
        "srange = float(input(\"Enter Shear Range : \"))\n",
        "wshift = float(input(\"Width Shift Range : \"))\n",
        "hshift = float(input(\"Horizontal Shift Range : \"))\n",
        "vflip = int(input(\"Verical Flip \\n 1-True \\n 0-False \\n Enter : \"))\n",
        "if vflip == 1:\n",
        "    nvflip = True\n",
        "elif vflip == 0:\n",
        "    nvflip = False\n",
        "else:\n",
        "    print(\"Run again\")\n",
        " \n",
        "datagen = ImageDataGenerator(rotation_range=rrange,horizontal_flip=nhtr,fill_mode=nfill,shear_range=srange,zoom_range=zrange,width_shift_range=wshift,height_shift_range=hshift,rescale=1./255,vertical_flip=nvflip)\n",
        "generate_plot_pics(datagen,orig_img)"
      ],
      "execution_count": null,
      "outputs": []
    },
    {
      "cell_type": "markdown",
      "metadata": {
        "id": "JJgJgQ7ZMDuT",
        "colab_type": "text"
      },
      "source": [
        "**<h1> Visualizing CNN </h1>**\n",
        "<br>\n",
        "Note : Your Architeture mode name should be **model**\n",
        "<br>\n",
        "model = Sequential()"
      ]
    },
    {
      "cell_type": "code",
      "metadata": {
        "id": "tP5d06G7U3fn",
        "colab_type": "code",
        "colab": {}
      },
      "source": [
        "#Add your CNN architecture here\n",
        "#with import libraries\n",
        "#from : model = Sequantial()\n",
        "#to : model.summary()"
      ],
      "execution_count": null,
      "outputs": []
    },
    {
      "cell_type": "code",
      "metadata": {
        "id": "MFxDmC3Ql7GG",
        "colab_type": "code",
        "colab": {}
      },
      "source": [
        "ConvLayerIndex = []\n",
        "i=0\n",
        "for layer in model.layers:\n",
        "    # check for convolutional layer\n",
        "    if 'conv' not in layer.name:\n",
        "        i+=1\n",
        "        continue\n",
        "    # get filter weights\n",
        "    filters, biases = layer.get_weights()\n",
        "    print(layer.name, filters.shape)\n",
        "    strg = layer.name\n",
        "    ConvLayerIndex.append(i)\n",
        "    i+=1"
      ],
      "execution_count": null,
      "outputs": []
    },
    {
      "cell_type": "markdown",
      "metadata": {
        "id": "4a6aYADZQoLi",
        "colab_type": "text"
      },
      "source": [
        "Filter Visulization"
      ]
    },
    {
      "cell_type": "code",
      "metadata": {
        "id": "zTSZ9TeLnTob",
        "colab_type": "code",
        "colab": {}
      },
      "source": [
        "filterP = int(input(\"Enter Number of filters you want to print \\n Range : 1 to you give in \\n model.add(Conv2D(thisFirstFill))\"))\n",
        "cmapuse = int(input(\"Enter cmap value : \\n 0-grayscale \\n 1-jet \\n 2-viridis \\n 3-plasma \\n 4-magma \\n 5-inferno \\n 6-cividis \\n Enter : \"))\n",
        "if cmapuse == 0:\n",
        "    cm = \"grayscale\"\n",
        "elif cmapuse == 1:\n",
        "    cm = \"jet\"\n",
        "elif cmapuse == 2:\n",
        "    cm = \"viridis\"\n",
        "elif cmapuse == 3:\n",
        "    cm = \"plasma\"\n",
        "elif cmapuse == 4:\n",
        "    cm = \"magma\"\n",
        "elif cmapuse == 5:\n",
        "    cm = \"inferno\"\n",
        "elif cmapuse == 6:\n",
        "    cm = \"cividis\"\n",
        "else:\n",
        "    print(\"Run again, Enter Valid Input\")\n",
        " \n",
        "from matplotlib import pyplot\n",
        "for j in ConvLayerIndex : \n",
        "    filters, biases = model.layers[j].get_weights()\n",
        "    print(\"Conv\"+str(j))\n",
        "    # normalize filter values to 0-1 so we can visualize them\n",
        "    f_min, f_max = filters.min(), filters.max()\n",
        "    filters = (filters - f_min) / (f_max - f_min)\n",
        "    \n",
        "    # plot first few filters\n",
        "    n_filters, ix = filterP, 1\n",
        "    for i in range(n_filters):\n",
        "        # get the filter\n",
        "        f = filters[:, :, :, i]\n",
        "        # plot each channel separately\n",
        "        for j in range(3):\n",
        "            # specify subplot and turn of axis\n",
        "            ax = pyplot.subplot(n_filters, 3, ix)\n",
        "            ax.set_xticks([])\n",
        "            ax.set_yticks([])\n",
        " \n",
        "            pyplot.imshow(f[:, :, j],cmap=cm)\n",
        "            pyplot.colorbar()\n",
        "            ix += 1\n",
        "    # show the figure\n",
        "    pyplot.show()"
      ],
      "execution_count": null,
      "outputs": []
    },
    {
      "cell_type": "code",
      "metadata": {
        "id": "wgoRMpQ4-wVv",
        "colab_type": "code",
        "colab": {}
      },
      "source": [
        " \n",
        "rn = int(input(\"Options :\\n 0-You will Provide Path of Image \\n 1-Random Image Selector \\n Enter : \"))\n",
        "if rn == 0:\n",
        "    img_path = str(input(\"Enter Image Path : \"))\n",
        "elif rn == 1:\n",
        "    direcp = str(input(\"Enter exact Directory Path in which images avaliable\"))\n",
        "    rand = random.randint(0,len(listdir(direcp))-1)\n",
        "    img_path = direcp+\"/\"+listdir(direcp)[rand]\n",
        "else :\n",
        "    print(\"Run Again\")\n",
        " \n",
        " \n",
        "img = load_img(img_path, target_size=(224, 224))\n",
        "img_tensor = img_to_array(img)\n",
        "img_tensor = np.expand_dims(img_tensor, axis=0)\n",
        "img_tensor /= 255\n",
        "plt.imshow(img_tensor[0])\n",
        "plt.show()\n",
        "print(img_tensor.shape)"
      ],
      "execution_count": null,
      "outputs": []
    },
    {
      "cell_type": "code",
      "metadata": {
        "id": "fVbxev3L7aWu",
        "colab_type": "code",
        "colab": {}
      },
      "source": [
        "from keras import models\n",
        "print(\"Total Number of Layers You Have : \" +str(len(model.layers)))\n",
        "print(f\"Enter Number of Layers you want to see \\n Range : 0 - {len(model.layers)} \")\n",
        "print(\"See only 12 layers or min from 12 layers at a time, due to memory excuation\")\n",
        "star = int(input(\"Starting From : \"))\n",
        "en = int(input(\"End Upto [Recomended 12] : \"))\n",
        "print(f\"For further layers , run again from here after running below codes \\n Next Time \\nStart from {en+1} - {en+1+12} \\n\")\n",
        "layer_outputs = [layer.output for layer in model.layers[star:en]]\n",
        "activation_model = models.Model(inputs=model.input, outputs=layer_outputs)"
      ],
      "execution_count": null,
      "outputs": []
    },
    {
      "cell_type": "code",
      "metadata": {
        "id": "4NkJF0ER-txM",
        "colab_type": "code",
        "colab": {}
      },
      "source": [
        "activations = activation_model.predict(img_tensor)\n",
        "acti = len(activations)"
      ],
      "execution_count": null,
      "outputs": []
    },
    {
      "cell_type": "markdown",
      "metadata": {
        "id": "EC0TiIRPVEw6",
        "colab_type": "text"
      },
      "source": [
        "Image Multiplied with Single Filter of Single Layer Visulization :"
      ]
    },
    {
      "cell_type": "code",
      "metadata": {
        "id": "TO5Oxg3gAD30",
        "colab_type": "code",
        "colab": {}
      },
      "source": [
        "inj = int(input(f\"Enter Index of Layer you want to see \\n Range : 0 - {acti} : \"))\n",
        "first_layer_activation = activations[inj]\n",
        "print(first_layer_activation.shape)\n",
        "fil = first_layer_activation.shape[3]\n",
        "lay = int(input(f\"Number of Filter Index you want to see you image multiply with : \\n Range : 0 - {fil} \\n Enter : \"))\n",
        "cmapuse = int(input(\"Enter cmap value : \\n 0-grayscale \\n 1-jet \\n 2-viridis \\n 3-plasma \\n 4-magma \\n 5-inferno \\n 6-cividis \\n Enter : \"))\n",
        "if cmapuse == 0:\n",
        "    cm = \"grayscale\"\n",
        "elif cmapuse == 1:\n",
        "    cm = \"jet\"\n",
        "elif cmapuse == 2:\n",
        "    cm = \"viridis\"\n",
        "elif cmapuse == 3:\n",
        "    cm = \"plasma\"\n",
        "elif cmapuse == 4:\n",
        "    cm = \"magma\"\n",
        "elif cmapuse == 5:\n",
        "    cm = \"inferno\"\n",
        "elif cmapuse == 6:\n",
        "    cm = \"cividis\"\n",
        "else:\n",
        "    print(\"Run again, Enter Valid Input\")\n",
        " \n",
        "plt.matshow(first_layer_activation[0, :, :, lay], cmap=cm)"
      ],
      "execution_count": null,
      "outputs": []
    },
    {
      "cell_type": "markdown",
      "metadata": {
        "id": "xrafTuo1VX5Z",
        "colab_type": "text"
      },
      "source": [
        "Image Multiplies with All Filters in all layers (maximum 12 layers at a time) Visulization :"
      ]
    },
    {
      "cell_type": "code",
      "metadata": {
        "id": "yQ42eNkGCIrY",
        "colab_type": "code",
        "colab": {}
      },
      "source": [
        "layer_names = []"
      ],
      "execution_count": null,
      "outputs": []
    },
    {
      "cell_type": "code",
      "metadata": {
        "id": "r28yxYOOFsOT",
        "colab_type": "code",
        "colab": {}
      },
      "source": [
        " \n",
        "cmapuse = int(input(\"Enter cmap value : \\n 0-grayscale \\n 1-jet \\n 2-viridis \\n 3-plasma \\n 4-magma \\n 5-inferno \\n 6-cividis \\n Enter : \"))\n",
        "if cmapuse == 0:\n",
        "    cm = \"grayscale\"\n",
        "elif cmapuse == 1:\n",
        "    cm = \"jet\"\n",
        "elif cmapuse == 2:\n",
        "    cm = \"viridis\"\n",
        "elif cmapuse == 3:\n",
        "    cm = \"plasma\"\n",
        "elif cmapuse == 4:\n",
        "    cm = \"magma\"\n",
        "elif cmapuse == 5:\n",
        "    cm = \"inferno\"\n",
        "elif cmapuse == 6:\n",
        "    cm = \"cividis\"\n",
        "else:\n",
        "    print(\"Run again, Enter Valid Input\")\n",
        " \n",
        " for layer in model.layers[star:en]:\n",
        "    layer_names.append(layer.name)\n",
        "print(layer_names) # Names of the layers, so you can have them as part of your plot   \n",
        "images_per_row = 16\n",
        "for layer_name, layer_activation in zip(layer_names, activations): # Displays the feature maps\n",
        "    n_features = layer_activation.shape[-1] # Number of features in the feature map\n",
        "    size = layer_activation.shape[1] #The feature map has shape (1, size, size, n_features).\n",
        "    n_cols = n_features // images_per_row # Tiles the activation channels in this matrix\n",
        "    display_grid = np.zeros((size * n_cols, images_per_row * size))\n",
        "    for col in range(n_cols): # Tiles each filter into a big horizontal grid\n",
        "        for row in range(images_per_row):\n",
        "            channel_image = layer_activation[0,:, :,col * images_per_row + row]\n",
        "            channel_image -= channel_image.mean() # Post-processes the feature to make it visually palatable\n",
        "            channel_image /= channel_image.std()\n",
        "            channel_image *= 64\n",
        "            channel_image += 128\n",
        "            channel_image = np.clip(channel_image, 0, 255).astype('uint8')\n",
        "            display_grid[col * size : (col + 1) * size,row * size : (row + 1) * size] = channel_image\n",
        "    scale = 1. / size\n",
        "    if display_grid.shape[0] == 0:\n",
        "      continue\n",
        "    plt.figure(figsize=(scale * display_grid.shape[1],\n",
        "                        scale * display_grid.shape[0]))\n",
        "    plt.title(layer_name)\n",
        "    plt.grid(False)\n",
        "    plt.imshow(display_grid, aspect='auto', cmap=cm)"
      ],
      "execution_count": null,
      "outputs": []
    },
    {
      "cell_type": "markdown",
      "metadata": {
        "id": "n90eYMyGvqCZ",
        "colab_type": "text"
      },
      "source": [
        " \n",
        "<h3>Flatten</h3>\n",
        "<img src=\"https://missinglink.ai/wp-content/uploads/2019/04/Group-5-700x383.png\"/>"
      ]
    },
    {
      "cell_type": "markdown",
      "metadata": {
        "id": "8Q2N0p7Pwa47",
        "colab_type": "text"
      },
      "source": [
        "<h3>Dense Layer</h3>\n",
        "<img src=\"https://encrypted-tbn0.gstatic.com/images?q=tbn%3AANd9GcSSxEkECdZYbtDNrGhzkvld4ACVW96CVoJThQ&usqp=CAU\"/>"
      ]
    }
  ]
}