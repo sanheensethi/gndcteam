{
  "nbformat": 4,
  "nbformat_minor": 0,
  "metadata": {
    "colab": {
      "name": "PlantDisease",
      "provenance": [],
      "collapsed_sections": [],
      "authorship_tag": "ABX9TyO5Q7Z83H/0me48008CFVU4",
      "include_colab_link": true
    },
    "kernelspec": {
      "name": "python3",
      "display_name": "Python 3"
    }
  },
  "cells": [
    {
      "cell_type": "markdown",
      "metadata": {
        "id": "view-in-github",
        "colab_type": "text"
      },
      "source": [
        "<a href=\"https://colab.research.google.com/github/sanheensethi/gndcteam/blob/master/PlantDisease.ipynb\" target=\"_parent\"><img src=\"https://colab.research.google.com/assets/colab-badge.svg\" alt=\"Open In Colab\"/></a>"
      ]
    },
    {
      "cell_type": "code",
      "metadata": {
        "id": "f0URuCMnSPNv",
        "colab_type": "code",
        "colab": {
          "base_uri": "https://localhost:8080/",
          "height": 139
        },
        "outputId": "7e0f95a2-bd34-41c9-bb3e-84f8f6f84f51"
      },
      "source": [
        "#Downloading Dataset\n",
        "!git clone https://github.com/spMohanty/PlantVillage-Dataset"
      ],
      "execution_count": null,
      "outputs": [
        {
          "output_type": "stream",
          "text": [
            "Cloning into 'PlantVillage-Dataset'...\n",
            "remote: Enumerating objects: 163229, done.\u001b[K\n",
            "remote: Total 163229 (delta 0), reused 0 (delta 0), pack-reused 163229\u001b[K\n",
            "Receiving objects: 100% (163229/163229), 2.00 GiB | 28.58 MiB/s, done.\n",
            "Resolving deltas: 100% (99/99), done.\n",
            "Checking out files: 100% (182401/182401), done.\n"
          ],
          "name": "stdout"
        }
      ]
    },
    {
      "cell_type": "code",
      "metadata": {
        "id": "VyS2ARJkaiBk",
        "colab_type": "code",
        "colab": {
          "base_uri": "https://localhost:8080/",
          "height": 34
        },
        "outputId": "7baf86ec-a7ee-40a8-9902-887cb843a858"
      },
      "source": [
        "#copy the data\n",
        "!cp -R /content/PlantVillage-Dataset/raw /content/"
      ],
      "execution_count": null,
      "outputs": [
        {
          "output_type": "stream",
          "text": [
            "^C\n"
          ],
          "name": "stdout"
        }
      ]
    },
    {
      "cell_type": "code",
      "metadata": {
        "id": "WKFh5CEQurne",
        "colab_type": "code",
        "colab": {}
      },
      "source": [
        "#for removing any folder\n",
        "!rm -r /content/Test"
      ],
      "execution_count": null,
      "outputs": []
    },
    {
      "cell_type": "code",
      "metadata": {
        "id": "RaV6Lfvxdkf1",
        "colab_type": "code",
        "colab": {}
      },
      "source": [
        "#Inserting Libraries\n",
        "import numpy as np\n",
        "import random\n",
        "import shutil\n",
        "import pickle\n",
        "import cv2\n",
        "from os import listdir\n",
        "from sklearn.preprocessing import LabelBinarizer\n",
        "from keras.models import Sequential\n",
        "from keras.layers.normalization import BatchNormalization\n",
        "from keras.layers.convolutional import Conv2D\n",
        "from keras.layers.convolutional import MaxPooling2D\n",
        "from keras.layers.core import Activation, Flatten, Dropout, Dense\n",
        "from keras import backend as K\n",
        "from keras.preprocessing.image import ImageDataGenerator\n",
        "from keras.optimizers import Adam\n",
        "from keras.preprocessing import image\n",
        "from keras.preprocessing.image import img_to_array\n",
        "from sklearn.preprocessing import MultiLabelBinarizer\n",
        "from sklearn.model_selection import train_test_split\n",
        "import matplotlib.pyplot as plt"
      ],
      "execution_count": null,
      "outputs": []
    },
    {
      "cell_type": "code",
      "metadata": {
        "id": "nmvEwsSKzdDg",
        "colab_type": "code",
        "colab": {}
      },
      "source": [
        " def TestFileFolderCreate() :   \n",
        "    randomFolder = random.randint(0,len(root_dir))\n",
        "    folderName = root_dir[randomFolder]\n",
        "    print(folderName)\n",
        "    imageList = listdir(f\"{directory_root}/{folderName}\")\n",
        "    randomImageNum = random.randint(0,len(imageList))\n",
        "    ImageName = imageList[randomImageNum]\n",
        "    print(ImageName)\n",
        "    WriteFile(folderName,ImageName)\n",
        "    src = f\"{directory_root}/{folderName}/{ImageName}\"\n",
        "    des = '/content/Test/'\n",
        "    shutil.move(src,des)"
      ],
      "execution_count": null,
      "outputs": []
    },
    {
      "cell_type": "code",
      "metadata": {
        "id": "I713OsRJdtU6",
        "colab_type": "code",
        "colab": {}
      },
      "source": [
        "#Initializing Variables\n",
        "EPOCHS = 25\n",
        "INIT_LR = 1e-3\n",
        "BS = 32\n",
        "default_image_size = tuple((256, 256))\n",
        "image_size = 0\n",
        "directory_root = '/content/raw/color'\n",
        "width=256\n",
        "height=256\n",
        "depth=3"
      ],
      "execution_count": null,
      "outputs": []
    },
    {
      "cell_type": "code",
      "metadata": {
        "id": "4t-SyEcuo3zh",
        "colab_type": "code",
        "colab": {
          "base_uri": "https://localhost:8080/",
          "height": 34
        },
        "outputId": "3c7d28ad-bd63-4069-8d73-efc1df8f4d49"
      },
      "source": [
        "root_dir = listdir(directory_root)\n",
        "print(\"Number Of Folders : \" + str(len(root_dir)))"
      ],
      "execution_count": null,
      "outputs": [
        {
          "output_type": "stream",
          "text": [
            "Number Of Folders : 38\n"
          ],
          "name": "stdout"
        }
      ]
    },
    {
      "cell_type": "code",
      "metadata": {
        "id": "Oj1BF4RTwsAC",
        "colab_type": "code",
        "colab": {
          "base_uri": "https://localhost:8080/",
          "height": 54
        },
        "outputId": "a494c23f-828d-481c-9c1e-6a42c36bd9ce"
      },
      "source": [
        "!mkdir Test"
      ],
      "execution_count": null,
      "outputs": [
        {
          "output_type": "stream",
          "text": [
            "mkdir: cannot create directory ‘Test’: File exists\n"
          ],
          "name": "stdout"
        }
      ]
    },
    {
      "cell_type": "code",
      "metadata": {
        "id": "raxSKny6QdFL",
        "colab_type": "code",
        "colab": {}
      },
      "source": [
        "def WriteFile(ClassName,ImageName):\n",
        "    f = open(\"TestFile.csv\",\"a+\")\n",
        "    f.write(ClassName+\",\"+ImageName+\"\\n\")"
      ],
      "execution_count": null,
      "outputs": []
    },
    {
      "cell_type": "code",
      "metadata": {
        "id": "vU1lfPjGTvBS",
        "colab_type": "code",
        "colab": {
          "base_uri": "https://localhost:8080/",
          "height": 547
        },
        "outputId": "aa6e8914-bfb3-4faf-d197-ed30e7b57859"
      },
      "source": [
        "for i in range(0,10):\n",
        "    print(i)\n",
        "    TestFileFolderCreate()"
      ],
      "execution_count": null,
      "outputs": [
        {
          "output_type": "stream",
          "text": [
            "0\n",
            "Potato___Late_blight\n",
            "73fb0463-c023-4749-8c37-dd11304de9b1___RS_LB 3112.JPG\n",
            "1\n",
            "Apple___healthy\n",
            "55e058db-7a66-4468-b6f8-a2e3fd4d567d___RS_HL 8128.JPG\n",
            "2\n",
            "Peach___healthy\n",
            "824013e3-8d6e-4f7c-b397-720414144511___Rutg._HL 3516.JPG\n",
            "3\n",
            "Soybean___healthy\n",
            "7a24b872-449a-4377-8a44-97825a68cc2a___RS_HL 7338.JPG\n",
            "4\n",
            "Corn_(maize)___healthy\n",
            "b2df7a91-eb90-4263-9305-c91d53019da7___R.S_HL 8005 copy.jpg\n",
            "5\n",
            "Peach___healthy\n",
            "0598c367-7200-4f61-af7b-eddb6bf99e55___Rutg._HL 3737.JPG\n",
            "6\n",
            "Tomato___Late_blight\n",
            "913a9ecb-2dad-4a37-8e5e-e97a1aa2b8a1___RS_Late.B 5327.JPG\n",
            "7\n",
            "Cherry_(including_sour)___healthy\n",
            "83e9a1a7-8a7c-4088-acb9-b3e5f1afbe7e___JR_HL 4205.JPG\n",
            "8\n",
            "Squash___Powdery_mildew\n",
            "c5455cd1-9c8a-4051-aca1-ed1f1f784bea___UMD_Powd.M 0226.JPG\n",
            "9\n",
            "Pepper,_bell___healthy\n",
            "20239e3e-cf5a-40d0-a813-02989a7a92d5___JR_HL 7729.JPG\n"
          ],
          "name": "stdout"
        }
      ]
    },
    {
      "cell_type": "code",
      "metadata": {
        "id": "Rtnzv2YOhJvm",
        "colab_type": "code",
        "colab": {}
      },
      "source": [
        "#Viewing Number of Images in Folder\n",
        "print(\"[INFO] Loading Data \")\n",
        "root_dir = listdir(directory_root)\n",
        "sumP = 0\n",
        "for directory in root_dir :\n",
        "    print(\"[FOLDER] Loading Folder : \"+str(directory))\n",
        "    plant_disease_image_list = listdir(f\"{directory_root}/{directory}\")\n",
        "    lenP = len(plant_disease_image_list)\n",
        "    print(\"[IMAGES] Images : \" + str(lenP))\n",
        "    sumP += lenP\n",
        "   \n",
        "print(\"Total Images : \" + str(sumP))"
      ],
      "execution_count": null,
      "outputs": []
    },
    {
      "cell_type": "code",
      "metadata": {
        "id": "so0h_zNQDXFZ",
        "colab_type": "code",
        "colab": {}
      },
      "source": [
        "dataGeneration = ImageDataGenerator(validation_split=0.2,rescale=1./255,rotation_range=25, width_shift_range=0.1,\n",
        "    height_shift_range=0.1, shear_range=0.2, \n",
        "    zoom_range=0.2,horizontal_flip=True, \n",
        "    fill_mode=\"nearest\")"
      ],
      "execution_count": null,
      "outputs": []
    },
    {
      "cell_type": "code",
      "metadata": {
        "id": "aYRlWghdDtf0",
        "colab_type": "code",
        "colab": {
          "base_uri": "https://localhost:8080/",
          "height": 71
        },
        "outputId": "3dcd63e9-76ea-46ce-c687-61eaf8f88d07"
      },
      "source": [
        "trainGenerator = dataGeneration.flow_from_directory(\n",
        "        '/content/raw/color/',\n",
        "        target_size=(256,256),\n",
        "        batch_size=32,\n",
        "        class_mode='categorical',\n",
        "        shuffle=True,\n",
        "        subset='training')\n",
        "print(trainGenerator)\n",
        "classes = trainGenerator.class_indices"
      ],
      "execution_count": null,
      "outputs": [
        {
          "output_type": "stream",
          "text": [
            "Found 43432 images belonging to 38 classes.\n",
            "<keras.preprocessing.image.DirectoryIterator object at 0x7fb7e2f5fd30>\n"
          ],
          "name": "stdout"
        }
      ]
    },
    {
      "cell_type": "code",
      "metadata": {
        "id": "uwD4c86fvKGW",
        "colab_type": "code",
        "colab": {}
      },
      "source": [
        "def ClassesLabel(classes):\n",
        "    j=0\n",
        "    for i in classes :\n",
        "        f = open(\"Classes.csv\",\"a+\")\n",
        "        f.write(str(j)+\",\"+i+\"\\n\")\n",
        "        j = j+1"
      ],
      "execution_count": null,
      "outputs": []
    },
    {
      "cell_type": "code",
      "metadata": {
        "id": "RKVVxcqOvTQi",
        "colab_type": "code",
        "colab": {}
      },
      "source": [
        "ClassesLabel(classes)"
      ],
      "execution_count": null,
      "outputs": []
    },
    {
      "cell_type": "code",
      "metadata": {
        "id": "3XlALTf2G6il",
        "colab_type": "code",
        "colab": {
          "base_uri": "https://localhost:8080/",
          "height": 54
        },
        "outputId": "b6c6131c-6147-4630-b1bc-35a7916ec811"
      },
      "source": [
        " validGenerator = dataGeneration.flow_from_directory(\n",
        "        '/content/raw/color/',\n",
        "        target_size=(256,256),\n",
        "        batch_size=32,\n",
        "        class_mode='categorical',\n",
        "        shuffle=True,\n",
        "        subset='validation')"
      ],
      "execution_count": null,
      "outputs": [
        {
          "output_type": "stream",
          "text": [
            "Found 10843 images belonging to 38 classes.\n"
          ],
          "name": "stdout"
        }
      ]
    },
    {
      "cell_type": "code",
      "metadata": {
        "id": "SxqN50xrHSJ9",
        "colab_type": "code",
        "colab": {}
      },
      "source": [
        "model = Sequential()"
      ],
      "execution_count": null,
      "outputs": []
    },
    {
      "cell_type": "code",
      "metadata": {
        "id": "uyTY3UC9HV64",
        "colab_type": "code",
        "colab": {}
      },
      "source": [
        "inputShape = (256,256,3)\n",
        "chanDim = -1\n",
        "if K.image_data_format() == \"channels_first\":\n",
        "    inputShape = (depth, height, width)\n",
        "    chanDim = 1\n",
        "n_classes = 38"
      ],
      "execution_count": null,
      "outputs": []
    },
    {
      "cell_type": "code",
      "metadata": {
        "id": "i5i3U-2cIYrt",
        "colab_type": "code",
        "colab": {}
      },
      "source": [
        "model.add(Conv2D(32, (3, 3), padding=\"same\",name=\"conv_1\", input_shape=inputShape))\n",
        "model.add(Activation(\"relu\"))\n",
        "model.add(BatchNormalization(axis=chanDim))\n",
        "model.add(MaxPooling2D(pool_size=(3, 3)))\n",
        "model.add(Dropout(0.25))\n",
        "model.add(Conv2D(64, (3, 3), padding=\"same\"))\n",
        "model.add(Activation(\"relu\"))\n",
        "model.add(BatchNormalization(axis=chanDim))\n",
        "model.add(Conv2D(64, (3, 3), padding=\"same\"))\n",
        "model.add(Activation(\"relu\"))\n",
        "model.add(BatchNormalization(axis=chanDim))\n",
        "model.add(MaxPooling2D(pool_size=(2, 2)))\n",
        "model.add(Dropout(0.25))\n",
        "model.add(Conv2D(128, (3, 3), padding=\"same\"))\n",
        "model.add(Activation(\"relu\"))\n",
        "model.add(BatchNormalization(axis=chanDim))\n",
        "model.add(Conv2D(128, (3, 3), padding=\"same\"))\n",
        "model.add(Activation(\"relu\"))\n",
        "model.add(BatchNormalization(axis=chanDim))\n",
        "model.add(MaxPooling2D(pool_size=(2, 2)))\n",
        "model.add(Dropout(0.25))\n",
        "model.add(Flatten())\n",
        "model.add(Dense(1024))\n",
        "model.add(Activation(\"relu\"))\n",
        "model.add(BatchNormalization())\n",
        "model.add(Dropout(0.5))\n",
        "model.add(Dense(n_classes))\n",
        "model.add(Activation(\"softmax\"))"
      ],
      "execution_count": null,
      "outputs": []
    },
    {
      "cell_type": "code",
      "metadata": {
        "id": "dHkcxNbqOWYM",
        "colab_type": "code",
        "colab": {
          "base_uri": "https://localhost:8080/",
          "height": 1000
        },
        "outputId": "bb033bdd-3b0a-47b3-ae1e-7f855731dabf"
      },
      "source": [
        " model.summary()"
      ],
      "execution_count": null,
      "outputs": [
        {
          "output_type": "stream",
          "text": [
            "Model: \"sequential_2\"\n",
            "_________________________________________________________________\n",
            "Layer (type)                 Output Shape              Param #   \n",
            "=================================================================\n",
            "conv_1 (Conv2D)              (None, 256, 256, 32)      896       \n",
            "_________________________________________________________________\n",
            "activation_8 (Activation)    (None, 256, 256, 32)      0         \n",
            "_________________________________________________________________\n",
            "batch_normalization_7 (Batch (None, 256, 256, 32)      128       \n",
            "_________________________________________________________________\n",
            "max_pooling2d_4 (MaxPooling2 (None, 85, 85, 32)        0         \n",
            "_________________________________________________________________\n",
            "dropout_5 (Dropout)          (None, 85, 85, 32)        0         \n",
            "_________________________________________________________________\n",
            "conv2d_5 (Conv2D)            (None, 85, 85, 64)        18496     \n",
            "_________________________________________________________________\n",
            "activation_9 (Activation)    (None, 85, 85, 64)        0         \n",
            "_________________________________________________________________\n",
            "batch_normalization_8 (Batch (None, 85, 85, 64)        256       \n",
            "_________________________________________________________________\n",
            "conv2d_6 (Conv2D)            (None, 85, 85, 64)        36928     \n",
            "_________________________________________________________________\n",
            "activation_10 (Activation)   (None, 85, 85, 64)        0         \n",
            "_________________________________________________________________\n",
            "batch_normalization_9 (Batch (None, 85, 85, 64)        256       \n",
            "_________________________________________________________________\n",
            "max_pooling2d_5 (MaxPooling2 (None, 42, 42, 64)        0         \n",
            "_________________________________________________________________\n",
            "dropout_6 (Dropout)          (None, 42, 42, 64)        0         \n",
            "_________________________________________________________________\n",
            "conv2d_7 (Conv2D)            (None, 42, 42, 128)       73856     \n",
            "_________________________________________________________________\n",
            "activation_11 (Activation)   (None, 42, 42, 128)       0         \n",
            "_________________________________________________________________\n",
            "batch_normalization_10 (Batc (None, 42, 42, 128)       512       \n",
            "_________________________________________________________________\n",
            "conv2d_8 (Conv2D)            (None, 42, 42, 128)       147584    \n",
            "_________________________________________________________________\n",
            "activation_12 (Activation)   (None, 42, 42, 128)       0         \n",
            "_________________________________________________________________\n",
            "batch_normalization_11 (Batc (None, 42, 42, 128)       512       \n",
            "_________________________________________________________________\n",
            "max_pooling2d_6 (MaxPooling2 (None, 21, 21, 128)       0         \n",
            "_________________________________________________________________\n",
            "dropout_7 (Dropout)          (None, 21, 21, 128)       0         \n",
            "_________________________________________________________________\n",
            "flatten_2 (Flatten)          (None, 56448)             0         \n",
            "_________________________________________________________________\n",
            "dense_3 (Dense)              (None, 1024)              57803776  \n",
            "_________________________________________________________________\n",
            "activation_13 (Activation)   (None, 1024)              0         \n",
            "_________________________________________________________________\n",
            "batch_normalization_12 (Batc (None, 1024)              4096      \n",
            "_________________________________________________________________\n",
            "dropout_8 (Dropout)          (None, 1024)              0         \n",
            "_________________________________________________________________\n",
            "dense_4 (Dense)              (None, 38)                38950     \n",
            "_________________________________________________________________\n",
            "activation_14 (Activation)   (None, 38)                0         \n",
            "=================================================================\n",
            "Total params: 58,126,246\n",
            "Trainable params: 58,123,366\n",
            "Non-trainable params: 2,880\n",
            "_________________________________________________________________\n"
          ],
          "name": "stdout"
        }
      ]
    },
    {
      "cell_type": "code",
      "metadata": {
        "id": "IIP6ytd_QtpJ",
        "colab_type": "code",
        "colab": {
          "base_uri": "https://localhost:8080/",
          "height": 34
        },
        "outputId": "5ae496e1-4f52-4f6f-8db8-7c037417ce8a"
      },
      "source": [
        " opt = Adam(lr=INIT_LR, decay=INIT_LR / EPOCHS)\n",
        "# distribution\n",
        "model.compile(loss=\"categorical_crossentropy\", optimizer=opt,metrics=[\"accuracy\"])\n",
        "# train the network\n",
        "print(\"[INFO] training network...\")"
      ],
      "execution_count": null,
      "outputs": [
        {
          "output_type": "stream",
          "text": [
            "[INFO] training network...\n"
          ],
          "name": "stdout"
        }
      ]
    },
    {
      "cell_type": "code",
      "metadata": {
        "id": "ZiVoSzlDQzdO",
        "colab_type": "code",
        "colab": {
          "base_uri": "https://localhost:8080/",
          "height": 71
        },
        "outputId": "53c4c852-c7a4-47e9-cc0a-9e3fa814c9d0"
      },
      "source": [
        " history = model.fit_generator(\n",
        "    trainGenerator,steps_per_epoch = 43432//32,epochs = 2,validation_data = validGenerator,verbose=1)"
      ],
      "execution_count": null,
      "outputs": [
        {
          "output_type": "stream",
          "text": [
            "Epoch 1/2\n",
            " 675/1357 [=============>................] - ETA: 1:10:49 - loss: 1.4039 - accuracy: 0.6136"
          ],
          "name": "stdout"
        }
      ]
    },
    {
      "cell_type": "code",
      "metadata": {
        "id": "6o9nVuZnk0Ef",
        "colab_type": "code",
        "colab": {
          "base_uri": "https://localhost:8080/",
          "height": 404
        },
        "outputId": "54671e5c-9a5e-497b-d2fb-bce9e9213fd5"
      },
      "source": [
        "acc = history.history['accuracy']\n",
        "val_acc = history.history['val_accuracy']\n",
        "loss = history.history['loss']\n",
        "val_loss = history.history['val_loss']\n",
        "epochs = range(1, len(acc) + 1)\n",
        "#Train and validation accuracy\n",
        "plt.plot(epochs, acc, 'b', label='Training accurarcy')\n",
        "plt.plot(epochs, val_acc, 'r', label='Validation accurarcy')\n",
        "plt.title('Training and Validation accurarcy')\n",
        "plt.legend()\n",
        " \n",
        "plt.figure()\n",
        "#Train and validation loss\n",
        "plt.plot(epochs, loss, 'b', label='Training loss')\n",
        "plt.plot(epochs, val_loss, 'r', label='Validation loss')\n",
        "plt.title('Training and Validation loss')\n",
        "plt.legend()\n",
        "plt.show()"
      ],
      "execution_count": null,
      "outputs": [
        {
          "output_type": "display_data",
          "data": {
            "image/png": "[encoded data removed]",
            "text/plain": [
              "<Figure size 432x288 with 1 Axes>"
            ]
          },
          "metadata": {
            "tags": [],
            "needs_background": "light"
          }
        },
        {
          "output_type": "display_data",
          "data": {
            "image/png": "[encoded data removed]",
            "text/plain": [
              "<Figure size 432x288 with 1 Axes>"
            ]
          },
          "metadata": {
            "tags": [],
            "needs_background": "light"
          }
        }
      ]
    },
    {
      "cell_type": "code",
      "metadata": {
        "id": "Cc2B5rk5nAUJ",
        "colab_type": "code",
        "colab": {
          "base_uri": "https://localhost:8080/",
          "height": 88
        },
        "outputId": "49ea372d-932d-4918-e909-ccdb2384415e"
      },
      "source": [
        " print(\"[INFO] Calculating model accuracy\")\n",
        "scores = model.evaluate(validGenerator)\n",
        "print(f\"Test Accuracy: {scores[1]*100}\")"
      ],
      "execution_count": null,
      "outputs": [
        {
          "output_type": "stream",
          "text": [
            "[INFO] Calculating model accuracy\n",
            "339/339 [==============================] - 687s 2s/step\n",
            "Test Accuracy: 1.3926034793257713\n"
          ],
          "name": "stdout"
        }
      ]
    },
    {
      "cell_type": "code",
      "metadata": {
        "id": "AHKr64Wbsbb5",
        "colab_type": "code",
        "colab": {
          "base_uri": "https://localhost:8080/",
          "height": 34
        },
        "outputId": "b413fec8-012f-4a16-fe4a-33bba3e787a0"
      },
      "source": [
        " print(\"[INFO] Saving model...\")\n",
        "model.save(\"disease.h5\")"
      ],
      "execution_count": null,
      "outputs": [
        {
          "output_type": "stream",
          "text": [
            "[INFO] Saving model...\n"
          ],
          "name": "stdout"
        }
      ]
    },
    {
      "cell_type": "code",
      "metadata": {
        "id": "CrMZzrG3QU5H",
        "colab_type": "code",
        "colab": {}
      },
      "source": [
        "from keras.models import load_model\n",
        "model2 = load_model(\"disease.h5\")"
      ],
      "execution_count": null,
      "outputs": []
    },
    {
      "cell_type": "code",
      "metadata": {
        "id": "Vps4Uhd9Qkzf",
        "colab_type": "code",
        "colab": {
          "base_uri": "https://localhost:8080/",
          "height": 1000
        },
        "outputId": "e235d38c-d0eb-4d5e-bfd9-f216326ebcc9"
      },
      "source": [
        "model2.summary()"
      ],
      "execution_count": null,
      "outputs": [
        {
          "output_type": "stream",
          "text": [
            "Model: \"sequential_2\"\n",
            "_________________________________________________________________\n",
            "Layer (type)                 Output Shape              Param #   \n",
            "=================================================================\n",
            "conv_1 (Conv2D)              (None, 256, 256, 32)      896       \n",
            "_________________________________________________________________\n",
            "activation_8 (Activation)    (None, 256, 256, 32)      0         \n",
            "_________________________________________________________________\n",
            "batch_normalization_7 (Batch (None, 256, 256, 32)      128       \n",
            "_________________________________________________________________\n",
            "max_pooling2d_4 (MaxPooling2 (None, 85, 85, 32)        0         \n",
            "_________________________________________________________________\n",
            "dropout_5 (Dropout)          (None, 85, 85, 32)        0         \n",
            "_________________________________________________________________\n",
            "conv2d_5 (Conv2D)            (None, 85, 85, 64)        18496     \n",
            "_________________________________________________________________\n",
            "activation_9 (Activation)    (None, 85, 85, 64)        0         \n",
            "_________________________________________________________________\n",
            "batch_normalization_8 (Batch (None, 85, 85, 64)        256       \n",
            "_________________________________________________________________\n",
            "conv2d_6 (Conv2D)            (None, 85, 85, 64)        36928     \n",
            "_________________________________________________________________\n",
            "activation_10 (Activation)   (None, 85, 85, 64)        0         \n",
            "_________________________________________________________________\n",
            "batch_normalization_9 (Batch (None, 85, 85, 64)        256       \n",
            "_________________________________________________________________\n",
            "max_pooling2d_5 (MaxPooling2 (None, 42, 42, 64)        0         \n",
            "_________________________________________________________________\n",
            "dropout_6 (Dropout)          (None, 42, 42, 64)        0         \n",
            "_________________________________________________________________\n",
            "conv2d_7 (Conv2D)            (None, 42, 42, 128)       73856     \n",
            "_________________________________________________________________\n",
            "activation_11 (Activation)   (None, 42, 42, 128)       0         \n",
            "_________________________________________________________________\n",
            "batch_normalization_10 (Batc (None, 42, 42, 128)       512       \n",
            "_________________________________________________________________\n",
            "conv2d_8 (Conv2D)            (None, 42, 42, 128)       147584    \n",
            "_________________________________________________________________\n",
            "activation_12 (Activation)   (None, 42, 42, 128)       0         \n",
            "_________________________________________________________________\n",
            "batch_normalization_11 (Batc (None, 42, 42, 128)       512       \n",
            "_________________________________________________________________\n",
            "max_pooling2d_6 (MaxPooling2 (None, 21, 21, 128)       0         \n",
            "_________________________________________________________________\n",
            "dropout_7 (Dropout)          (None, 21, 21, 128)       0         \n",
            "_________________________________________________________________\n",
            "flatten_2 (Flatten)          (None, 56448)             0         \n",
            "_________________________________________________________________\n",
            "dense_3 (Dense)              (None, 1024)              57803776  \n",
            "_________________________________________________________________\n",
            "activation_13 (Activation)   (None, 1024)              0         \n",
            "_________________________________________________________________\n",
            "batch_normalization_12 (Batc (None, 1024)              4096      \n",
            "_________________________________________________________________\n",
            "dropout_8 (Dropout)          (None, 1024)              0         \n",
            "_________________________________________________________________\n",
            "dense_4 (Dense)              (None, 38)                38950     \n",
            "_________________________________________________________________\n",
            "activation_14 (Activation)   (None, 38)                0         \n",
            "=================================================================\n",
            "Total params: 58,126,246\n",
            "Trainable params: 58,123,366\n",
            "Non-trainable params: 2,880\n",
            "_________________________________________________________________\n"
          ],
          "name": "stdout"
        }
      ]
    },
    {
      "cell_type": "code",
      "metadata": {
        "id": "jX5nRh7dUBwH",
        "colab_type": "code",
        "colab": {}
      },
      "source": [
        "  opt = Adam(lr=INIT_LR, decay=INIT_LR / EPOCHS)\n",
        "# distribution\n",
        "model.compile(loss=\"categorical_crossentropy\", optimizer=opt,metrics=[\"accuracy\"])"
      ],
      "execution_count": null,
      "outputs": []
    },
    {
      "cell_type": "code",
      "metadata": {
        "id": "D4werOH2pWqi",
        "colab_type": "code",
        "colab": {}
      },
      "source": [
        "imagePath = listdir('/content/Test')"
      ],
      "execution_count": null,
      "outputs": []
    },
    {
      "cell_type": "code",
      "metadata": {
        "id": "2hGN33npUR2q",
        "colab_type": "code",
        "colab": {
          "base_uri": "https://localhost:8080/",
          "height": 717
        },
        "outputId": "7ba1e428-0ff9-4165-d541-e88044e54b7c"
      },
      "source": [
        "for image in imagePath:\n",
        "    print(\"[IMAGE] : \"+str(image))\n",
        "    path = '/content/Test/'+image\n",
        "    img = cv2.imread(path)\n",
        "    img = cv2.resize(img,(256,256))\n",
        "    img = img/255\n",
        "    img = np.reshape(img,[1,256,256,3])\n",
        "    cl = model.predict_classes([img])\n",
        "    print(\"[CLASS] : \"+str(cl[0]))"
      ],
      "execution_count": null,
      "outputs": [
        {
          "output_type": "stream",
          "text": [
            "[IMAGE] : 83e9a1a7-8a7c-4088-acb9-b3e5f1afbe7e___JR_HL 4205.JPG\n",
            "[CLASS] : 28\n",
            "[IMAGE] : 0ce4ee15-d59b-4212-ab2a-8b6a07f3634f___JR_HL 9707.JPG\n",
            "[CLASS] : 30\n",
            "[IMAGE] : 73fb0463-c023-4749-8c37-dd11304de9b1___RS_LB 3112.JPG\n",
            "[CLASS] : 7\n",
            "[IMAGE] : 824013e3-8d6e-4f7c-b397-720414144511___Rutg._HL 3516.JPG\n",
            "[CLASS] : 30\n",
            "[IMAGE] : 420820fe-e1b8-49b5-8db6-65e0a80c867c___CREC_HLB 7671.JPG\n",
            "[CLASS] : 37\n",
            "[IMAGE] : 88877f3e-d166-4582-bbca-4b5a42687177___Com.G_TgS_FL 0728.JPG\n",
            "[CLASS] : 37\n",
            "[IMAGE] : 4c7e93da-6c5a-4423-89f3-db15242fd53a___Crnl_L.Mold 8703.JPG\n",
            "[CLASS] : 7\n",
            "[IMAGE] : c5455cd1-9c8a-4051-aca1-ed1f1f784bea___UMD_Powd.M 0226.JPG\n",
            "[CLASS] : 7\n",
            "[IMAGE] : 14e299a4-927e-450d-bdf8-27315ce59a5b___Mary_HL 9329.JPG\n",
            "[CLASS] : 7\n",
            "[IMAGE] : aed8ece7-c19f-4fa6-b831-89c36e33adb3___UF.GRC_YLCV_Lab 02396.JPG\n",
            "[CLASS] : 7\n",
            "[IMAGE] : RS_Rust 1834.JPG\n",
            "[CLASS] : 7\n",
            "[IMAGE] : 20239e3e-cf5a-40d0-a813-02989a7a92d5___JR_HL 7729.JPG\n",
            "[CLASS] : 7\n",
            "[IMAGE] : 0598c367-7200-4f61-af7b-eddb6bf99e55___Rutg._HL 3737.JPG\n",
            "[CLASS] : 30\n",
            "[IMAGE] : d0e9b297-cb9f-440a-ac87-3ba307edcf6c___RS_GLSp 7308.JPG\n",
            "[CLASS] : 7\n",
            "[IMAGE] : b2df7a91-eb90-4263-9305-c91d53019da7___R.S_HL 8005 copy.jpg\n",
            "[CLASS] : 7\n",
            "[IMAGE] : c3b2554c-1408-445d-8f08-fae1b240b930___JR_HL 5956.JPG\n",
            "[CLASS] : 2\n",
            "[IMAGE] : 7a24b872-449a-4377-8a44-97825a68cc2a___RS_HL 7338.JPG\n",
            "[CLASS] : 7\n",
            "[IMAGE] : 55e058db-7a66-4468-b6f8-a2e3fd4d567d___RS_HL 8128.JPG\n",
            "[CLASS] : 7\n",
            "[IMAGE] : 913a9ecb-2dad-4a37-8e5e-e97a1aa2b8a1___RS_Late.B 5327.JPG\n",
            "[CLASS] : 7\n",
            "[IMAGE] : a9516bc0-52e6-469c-aba3-ff83a027fda9___Rut._Bact.S 0959.JPG\n",
            "[CLASS] : 16\n"
          ],
          "name": "stdout"
        }
      ]
    }
  ]
}