{
  "nbformat": 4,
  "nbformat_minor": 0,
  "metadata": {
    "colab": {
      "name": "PlantDisease",
      "provenance": [],
      "collapsed_sections": [],
      "authorship_tag": "ABX9TyO4WiM/pIlUBGVMjo8mbCgc",
      "include_colab_link": true
    },
    "kernelspec": {
      "name": "python3",
      "display_name": "Python 3"
    },
    "accelerator": "GPU"
  },
  "cells": [
    {
      "cell_type": "markdown",
      "metadata": {
        "id": "view-in-github",
        "colab_type": "text"
      },
      "source": [
        "<a href=\"https://colab.research.google.com/github/sanheensethi/gndcteam/blob/master/PlantDisease.ipynb\" target=\"_parent\"><img src=\"https://colab.research.google.com/assets/colab-badge.svg\" alt=\"Open In Colab\"/></a>"
      ]
    },
    {
      "cell_type": "code",
      "metadata": {
        "id": "f0URuCMnSPNv",
        "colab_type": "code",
        "colab": {
          "base_uri": "https://localhost:8080/",
          "height": 139
        },
        "outputId": "efb0b39d-d704-4378-a3c9-5c163adff629"
      },
      "source": [
        "#Downloading Dataset\n",
        "!git clone https://github.com/spMohanty/PlantVillage-Dataset"
      ],
      "execution_count": 3,
      "outputs": [
        {
          "output_type": "stream",
          "text": [
            "Cloning into 'PlantVillage-Dataset'...\n",
            "remote: Enumerating objects: 163229, done.\u001b[K\n",
            "remote: Total 163229 (delta 0), reused 0 (delta 0), pack-reused 163229\u001b[K\n",
            "Receiving objects: 100% (163229/163229), 2.00 GiB | 15.56 MiB/s, done.\n",
            "Resolving deltas: 100% (99/99), done.\n",
            "Checking out files: 100% (182401/182401), done.\n"
          ],
          "name": "stdout"
        }
      ]
    },
    {
      "cell_type": "code",
      "metadata": {
        "id": "VyS2ARJkaiBk",
        "colab_type": "code",
        "colab": {}
      },
      "source": [
        "#copy the data\n",
        "!cp -R /content/PlantVillage-Dataset/raw /content/"
      ],
      "execution_count": 4,
      "outputs": []
    },
    {
      "cell_type": "code",
      "metadata": {
        "id": "WKFh5CEQurne",
        "colab_type": "code",
        "colab": {
          "base_uri": "https://localhost:8080/",
          "height": 54
        },
        "outputId": "b9eecbae-8192-42dc-c0a5-3d0f18d30bd6"
      },
      "source": [
        "#for removing any folder\n",
        "!rm -r /content/Test"
      ],
      "execution_count": 5,
      "outputs": [
        {
          "output_type": "stream",
          "text": [
            "rm: cannot remove '/content/Test': No such file or directory\n"
          ],
          "name": "stdout"
        }
      ]
    },
    {
      "cell_type": "code",
      "metadata": {
        "id": "RaV6Lfvxdkf1",
        "colab_type": "code",
        "colab": {
          "base_uri": "https://localhost:8080/",
          "height": 34
        },
        "outputId": "9e72d2ba-adae-4c20-e7ed-44f6592b615c"
      },
      "source": [
        "#Inserting Libraries\n",
        "import numpy as np\n",
        "import random\n",
        "import shutil\n",
        "import pickle\n",
        "import cv2\n",
        "from os import listdir\n",
        "from sklearn.preprocessing import LabelBinarizer\n",
        "from keras.models import Sequential\n",
        "from keras.layers.normalization import BatchNormalization\n",
        "from keras.layers.convolutional import Conv2D\n",
        "from keras.layers.convolutional import MaxPooling2D\n",
        "from keras.layers.core import Activation, Flatten, Dropout, Dense\n",
        "from keras import backend as K\n",
        "from keras.preprocessing.image import ImageDataGenerator\n",
        "from keras.optimizers import Adam\n",
        "from keras.preprocessing import image\n",
        "from keras.preprocessing.image import img_to_array\n",
        "from sklearn.preprocessing import MultiLabelBinarizer\n",
        "from sklearn.model_selection import train_test_split\n",
        "import matplotlib.pyplot as plt"
      ],
      "execution_count": 6,
      "outputs": [
        {
          "output_type": "stream",
          "text": [
            "Using TensorFlow backend.\n"
          ],
          "name": "stderr"
        }
      ]
    },
    {
      "cell_type": "code",
      "metadata": {
        "id": "nmvEwsSKzdDg",
        "colab_type": "code",
        "colab": {}
      },
      "source": [
        " def TestFileFolderCreate() :   \n",
        "    randomFolder = random.randint(0,len(root_dir))\n",
        "    folderName = root_dir[randomFolder]\n",
        "    print(folderName)\n",
        "    imageList = listdir(f\"{directory_root}/{folderName}\")\n",
        "    randomImageNum = random.randint(0,len(imageList))\n",
        "    ImageName = imageList[randomImageNum]\n",
        "    print(ImageName)\n",
        "    WriteFile(folderName,ImageName)\n",
        "    src = f\"{directory_root}/{folderName}/{ImageName}\"\n",
        "    des = '/content/Test/'\n",
        "    shutil.move(src,des)"
      ],
      "execution_count": 7,
      "outputs": []
    },
    {
      "cell_type": "code",
      "metadata": {
        "id": "I713OsRJdtU6",
        "colab_type": "code",
        "colab": {}
      },
      "source": [
        "#Initializing Variables\n",
        "EPOCHS = 25\n",
        "INIT_LR = 1e-4\n",
        "BS = 32\n",
        "default_image_size = tuple((256, 256))\n",
        "image_size = 0\n",
        "directory_root = '/content/raw/color'\n",
        "width=256\n",
        "height=256\n",
        "depth=3"
      ],
      "execution_count": 8,
      "outputs": []
    },
    {
      "cell_type": "code",
      "metadata": {
        "id": "4t-SyEcuo3zh",
        "colab_type": "code",
        "colab": {
          "base_uri": "https://localhost:8080/",
          "height": 34
        },
        "outputId": "db8217d4-1e89-4cf6-8e27-15cefeb367fe"
      },
      "source": [
        "root_dir = listdir(directory_root)\n",
        "print(\"Number Of Folders : \" + str(len(root_dir)))"
      ],
      "execution_count": 9,
      "outputs": [
        {
          "output_type": "stream",
          "text": [
            "Number Of Folders : 38\n"
          ],
          "name": "stdout"
        }
      ]
    },
    {
      "cell_type": "code",
      "metadata": {
        "id": "Oj1BF4RTwsAC",
        "colab_type": "code",
        "colab": {}
      },
      "source": [
        "!mkdir Test"
      ],
      "execution_count": 10,
      "outputs": []
    },
    {
      "cell_type": "code",
      "metadata": {
        "id": "raxSKny6QdFL",
        "colab_type": "code",
        "colab": {}
      },
      "source": [
        "def WriteFile(ClassName,ImageName):\n",
        "    f = open(\"TestFile.csv\",\"a+\")\n",
        "    f.write(ClassName+\"@#\"+ImageName+\"\\n\")"
      ],
      "execution_count": 11,
      "outputs": []
    },
    {
      "cell_type": "code",
      "metadata": {
        "id": "vU1lfPjGTvBS",
        "colab_type": "code",
        "colab": {
          "base_uri": "https://localhost:8080/",
          "height": 547
        },
        "outputId": "74a66495-75c6-4367-969e-d503e8d8688c"
      },
      "source": [
        "for i in range(0,10):\n",
        "    print(i)\n",
        "    TestFileFolderCreate()"
      ],
      "execution_count": 12,
      "outputs": [
        {
          "output_type": "stream",
          "text": [
            "0\n",
            "Potato___Early_blight\n",
            "88c63d75-4423-4233-9097-728af8a52033___RS_Early.B 6862.JPG\n",
            "1\n",
            "Corn_(maize)___healthy\n",
            "9275afa7-daf0-4052-b092-47d36132e69d___R.S_HL 8189 copy 2.jpg\n",
            "2\n",
            "Apple___Black_rot\n",
            "7e008f42-c268-4ca8-9acc-4682019ba060___JR_FrgE.S 8600.JPG\n",
            "3\n",
            "Potato___Early_blight\n",
            "f5fca019-b28f-4000-9d5e-b0b5fd061304___RS_Early.B 7503.JPG\n",
            "4\n",
            "Tomato___Bacterial_spot\n",
            "67b25260-c72a-4ccc-a99b-1e65efbd861c___GCREC_Bact.Sp 6248.JPG\n",
            "5\n",
            "Tomato___Tomato_mosaic_virus\n",
            "29bbbfcc-76ef-4506-9c1b-1a749646856e___PSU_CG 2184.JPG\n",
            "6\n",
            "Pepper,_bell___healthy\n",
            "8de81983-7026-47e2-a972-854af986bfc0___JR_HL 5879.JPG\n",
            "7\n",
            "Tomato___healthy\n",
            "0de569a8-21c5-4d22-b9c9-ba0ef0f2b614___RS_HL 0314.JPG\n",
            "8\n",
            "Tomato___Target_Spot\n",
            "3021f8a0-e41c-4f6d-9b48-0e71e8b7339d___Com.G_TgS_FL 9943.JPG\n",
            "9\n",
            "Grape___Leaf_blight_(Isariopsis_Leaf_Spot)\n",
            "3d85efed-2d4b-4f02-8023-144fa4c4bac5___FAM_L.Blight 1637.JPG\n"
          ],
          "name": "stdout"
        }
      ]
    },
    {
      "cell_type": "code",
      "metadata": {
        "id": "Rtnzv2YOhJvm",
        "colab_type": "code",
        "colab": {
          "base_uri": "https://localhost:8080/",
          "height": 1000
        },
        "outputId": "15d8704e-836c-4447-8ec2-01821df2955d"
      },
      "source": [
        "#Viewing Number of Images in Folder\n",
        "print(\"[INFO] Loading Data \")\n",
        "root_dir = listdir(directory_root)\n",
        "sumP = 0\n",
        "for directory in root_dir :\n",
        "    print(\"[FOLDER] Loading Folder : \"+str(directory))\n",
        "    plant_disease_image_list = listdir(f\"{directory_root}/{directory}\")\n",
        "    lenP = len(plant_disease_image_list)\n",
        "    print(\"[IMAGES] Images : \" + str(lenP))\n",
        "    sumP += lenP\n",
        "   \n",
        "print(\"Total Images : \" + str(sumP))"
      ],
      "execution_count": 13,
      "outputs": [
        {
          "output_type": "stream",
          "text": [
            "[INFO] Loading Data \n",
            "[FOLDER] Loading Folder : Cherry_(including_sour)___healthy\n",
            "[IMAGES] Images : 854\n",
            "[FOLDER] Loading Folder : Squash___Powdery_mildew\n",
            "[IMAGES] Images : 1835\n",
            "[FOLDER] Loading Folder : Tomato___Leaf_Mold\n",
            "[IMAGES] Images : 952\n",
            "[FOLDER] Loading Folder : Tomato___Bacterial_spot\n",
            "[IMAGES] Images : 2126\n",
            "[FOLDER] Loading Folder : Corn_(maize)___healthy\n",
            "[IMAGES] Images : 1161\n",
            "[FOLDER] Loading Folder : Corn_(maize)___Cercospora_leaf_spot Gray_leaf_spot\n",
            "[IMAGES] Images : 513\n",
            "[FOLDER] Loading Folder : Apple___healthy\n",
            "[IMAGES] Images : 1645\n",
            "[FOLDER] Loading Folder : Grape___Esca_(Black_Measles)\n",
            "[IMAGES] Images : 1383\n",
            "[FOLDER] Loading Folder : Apple___Apple_scab\n",
            "[IMAGES] Images : 630\n",
            "[FOLDER] Loading Folder : Apple___Black_rot\n",
            "[IMAGES] Images : 620\n",
            "[FOLDER] Loading Folder : Grape___Leaf_blight_(Isariopsis_Leaf_Spot)\n",
            "[IMAGES] Images : 1075\n",
            "[FOLDER] Loading Folder : Grape___Black_rot\n",
            "[IMAGES] Images : 1180\n",
            "[FOLDER] Loading Folder : Pepper,_bell___healthy\n",
            "[IMAGES] Images : 1477\n",
            "[FOLDER] Loading Folder : Peach___healthy\n",
            "[IMAGES] Images : 360\n",
            "[FOLDER] Loading Folder : Tomato___Early_blight\n",
            "[IMAGES] Images : 1000\n",
            "[FOLDER] Loading Folder : Tomato___Tomato_Yellow_Leaf_Curl_Virus\n",
            "[IMAGES] Images : 5357\n",
            "[FOLDER] Loading Folder : Raspberry___healthy\n",
            "[IMAGES] Images : 371\n",
            "[FOLDER] Loading Folder : Tomato___healthy\n",
            "[IMAGES] Images : 1590\n",
            "[FOLDER] Loading Folder : Orange___Haunglongbing_(Citrus_greening)\n",
            "[IMAGES] Images : 5507\n",
            "[FOLDER] Loading Folder : Blueberry___healthy\n",
            "[IMAGES] Images : 1502\n",
            "[FOLDER] Loading Folder : Corn_(maize)___Common_rust_\n",
            "[IMAGES] Images : 1192\n",
            "[FOLDER] Loading Folder : Grape___healthy\n",
            "[IMAGES] Images : 423\n",
            "[FOLDER] Loading Folder : Corn_(maize)___Northern_Leaf_Blight\n",
            "[IMAGES] Images : 985\n",
            "[FOLDER] Loading Folder : Cherry_(including_sour)___Powdery_mildew\n",
            "[IMAGES] Images : 1052\n",
            "[FOLDER] Loading Folder : Soybean___healthy\n",
            "[IMAGES] Images : 5090\n",
            "[FOLDER] Loading Folder : Tomato___Spider_mites Two-spotted_spider_mite\n",
            "[IMAGES] Images : 1676\n",
            "[FOLDER] Loading Folder : Tomato___Target_Spot\n",
            "[IMAGES] Images : 1403\n",
            "[FOLDER] Loading Folder : Pepper,_bell___Bacterial_spot\n",
            "[IMAGES] Images : 997\n",
            "[FOLDER] Loading Folder : Apple___Cedar_apple_rust\n",
            "[IMAGES] Images : 275\n",
            "[FOLDER] Loading Folder : Potato___Early_blight\n",
            "[IMAGES] Images : 998\n",
            "[FOLDER] Loading Folder : Peach___Bacterial_spot\n",
            "[IMAGES] Images : 2297\n",
            "[FOLDER] Loading Folder : Tomato___Septoria_leaf_spot\n",
            "[IMAGES] Images : 1771\n",
            "[FOLDER] Loading Folder : Strawberry___Leaf_scorch\n",
            "[IMAGES] Images : 1109\n",
            "[FOLDER] Loading Folder : Potato___Late_blight\n",
            "[IMAGES] Images : 1000\n",
            "[FOLDER] Loading Folder : Tomato___Late_blight\n",
            "[IMAGES] Images : 1909\n",
            "[FOLDER] Loading Folder : Tomato___Tomato_mosaic_virus\n",
            "[IMAGES] Images : 372\n",
            "[FOLDER] Loading Folder : Strawberry___healthy\n",
            "[IMAGES] Images : 456\n",
            "[FOLDER] Loading Folder : Potato___healthy\n",
            "[IMAGES] Images : 152\n",
            "Total Images : 54295\n"
          ],
          "name": "stdout"
        }
      ]
    },
    {
      "cell_type": "code",
      "metadata": {
        "id": "so0h_zNQDXFZ",
        "colab_type": "code",
        "colab": {}
      },
      "source": [
        "dataGeneration = ImageDataGenerator(validation_split=0.2,rescale=1./255,rotation_range=25, width_shift_range=0.1,\n",
        "    height_shift_range=0.1, shear_range=0.2, \n",
        "    zoom_range=0.2,horizontal_flip=True, \n",
        "    fill_mode=\"nearest\")"
      ],
      "execution_count": 14,
      "outputs": []
    },
    {
      "cell_type": "code",
      "metadata": {
        "id": "aYRlWghdDtf0",
        "colab_type": "code",
        "colab": {
          "base_uri": "https://localhost:8080/",
          "height": 71
        },
        "outputId": "7f1b1740-9215-4c14-e6ba-71261be9953b"
      },
      "source": [
        "trainGenerator = dataGeneration.flow_from_directory(\n",
        "        '/content/raw/color/',\n",
        "        target_size=(256,256),\n",
        "        batch_size=64,\n",
        "        class_mode='categorical',\n",
        "        shuffle=True,\n",
        "        subset='training')\n",
        "print(trainGenerator)\n",
        "classes = trainGenerator.class_indices"
      ],
      "execution_count": 15,
      "outputs": [
        {
          "output_type": "stream",
          "text": [
            "Found 43447 images belonging to 38 classes.\n",
            "<keras.preprocessing.image.DirectoryIterator object at 0x7f78ddf8b0b8>\n"
          ],
          "name": "stdout"
        }
      ]
    },
    {
      "cell_type": "code",
      "metadata": {
        "id": "uwD4c86fvKGW",
        "colab_type": "code",
        "colab": {}
      },
      "source": [
        "def ClassesLabel(classes):\n",
        "    j=0\n",
        "    for i in classes :\n",
        "        f = open(\"Classes.csv\",\"a+\")\n",
        "        f.write(str(j)+\"@#\"+i+\"\\n\")\n",
        "        j = j+1"
      ],
      "execution_count": 16,
      "outputs": []
    },
    {
      "cell_type": "code",
      "metadata": {
        "id": "RKVVxcqOvTQi",
        "colab_type": "code",
        "colab": {}
      },
      "source": [
        "ClassesLabel(classes)"
      ],
      "execution_count": 17,
      "outputs": []
    },
    {
      "cell_type": "code",
      "metadata": {
        "id": "3XlALTf2G6il",
        "colab_type": "code",
        "colab": {
          "base_uri": "https://localhost:8080/",
          "height": 54
        },
        "outputId": "fc4ac4be-7ca4-4fe5-d3d1-c15a44ad63ca"
      },
      "source": [
        " validGenerator = dataGeneration.flow_from_directory(\n",
        "        '/content/raw/color/',\n",
        "        target_size=(256,256),\n",
        "        batch_size=64,\n",
        "        class_mode='categorical',\n",
        "        shuffle=True,\n",
        "        subset='validation')"
      ],
      "execution_count": 18,
      "outputs": [
        {
          "output_type": "stream",
          "text": [
            "Found 10848 images belonging to 38 classes.\n"
          ],
          "name": "stdout"
        }
      ]
    },
    {
      "cell_type": "code",
      "metadata": {
        "id": "SxqN50xrHSJ9",
        "colab_type": "code",
        "colab": {}
      },
      "source": [
        "model = Sequential()"
      ],
      "execution_count": 25,
      "outputs": []
    },
    {
      "cell_type": "code",
      "metadata": {
        "id": "uyTY3UC9HV64",
        "colab_type": "code",
        "colab": {}
      },
      "source": [
        "inputShape = (256,256,3)\n",
        "chanDim = -1\n",
        "if K.image_data_format() == \"channels_first\":\n",
        "    inputShape = (depth, height, width)\n",
        "    chanDim = 1\n",
        "n_classes = 38\n",
        "from keras.regularizers import l2"
      ],
      "execution_count": 26,
      "outputs": []
    },
    {
      "cell_type": "code",
      "metadata": {
        "id": "i5i3U-2cIYrt",
        "colab_type": "code",
        "colab": {}
      },
      "source": [
        "model.add(Conv2D(32, (3, 3), padding=\"same\",name=\"conv_1\",kernel_regularizer=l2(0.01), bias_regularizer=l2(0.01),input_shape=inputShape))\n",
        "model.add(Activation(\"relu\"))\n",
        "model.add(BatchNormalization(axis=chanDim))\n",
        "model.add(MaxPooling2D(pool_size=(3, 3)))\n",
        "model.add(Dropout(0.20))\n",
        "model.add(Conv2D(64, (3, 3),kernel_regularizer=l2(0.01), bias_regularizer=l2(0.01),padding=\"same\"))\n",
        "model.add(Activation(\"relu\"))\n",
        "model.add(BatchNormalization(axis=chanDim))\n",
        "model.add(Conv2D(64, (3, 3),kernel_regularizer=l2(0.01), bias_regularizer=l2(0.01),padding=\"same\"))\n",
        "model.add(Activation(\"relu\"))\n",
        "model.add(BatchNormalization(axis=chanDim))\n",
        "model.add(MaxPooling2D(pool_size=(2, 2)))\n",
        "model.add(Dropout(0.30))\n",
        "model.add(Conv2D(128, (3, 3),kernel_regularizer=l2(0.01), bias_regularizer=l2(0.01),padding=\"same\"))\n",
        "model.add(Activation(\"relu\"))\n",
        "model.add(BatchNormalization(axis=chanDim))\n",
        "model.add(Conv2D(128, (3, 3),kernel_regularizer=l2(0.01), bias_regularizer=l2(0.01),padding=\"same\"))\n",
        "model.add(Activation(\"relu\"))\n",
        "model.add(BatchNormalization(axis=chanDim))\n",
        "model.add(MaxPooling2D(pool_size=(2, 2)))\n",
        "model.add(Dropout(0.40))\n",
        "model.add(Flatten())\n",
        "model.add(Dense(1024))\n",
        "model.add(Activation(\"relu\"))\n",
        "model.add(BatchNormalization())\n",
        "model.add(Dropout(0.5))\n",
        "model.add(Dense(n_classes))\n",
        "model.add(Activation(\"softmax\"))"
      ],
      "execution_count": 27,
      "outputs": []
    },
    {
      "cell_type": "code",
      "metadata": {
        "id": "dHkcxNbqOWYM",
        "colab_type": "code",
        "colab": {
          "base_uri": "https://localhost:8080/",
          "height": 1000
        },
        "outputId": "676c114e-8273-4ee0-d3f5-1daee113e788"
      },
      "source": [
        " model.summary()"
      ],
      "execution_count": 28,
      "outputs": [
        {
          "output_type": "stream",
          "text": [
            "Model: \"sequential_2\"\n",
            "_________________________________________________________________\n",
            "Layer (type)                 Output Shape              Param #   \n",
            "=================================================================\n",
            "conv_1 (Conv2D)              (None, 256, 256, 32)      896       \n",
            "_________________________________________________________________\n",
            "activation_8 (Activation)    (None, 256, 256, 32)      0         \n",
            "_________________________________________________________________\n",
            "batch_normalization_7 (Batch (None, 256, 256, 32)      128       \n",
            "_________________________________________________________________\n",
            "max_pooling2d_4 (MaxPooling2 (None, 85, 85, 32)        0         \n",
            "_________________________________________________________________\n",
            "dropout_5 (Dropout)          (None, 85, 85, 32)        0         \n",
            "_________________________________________________________________\n",
            "conv2d_5 (Conv2D)            (None, 85, 85, 64)        18496     \n",
            "_________________________________________________________________\n",
            "activation_9 (Activation)    (None, 85, 85, 64)        0         \n",
            "_________________________________________________________________\n",
            "batch_normalization_8 (Batch (None, 85, 85, 64)        256       \n",
            "_________________________________________________________________\n",
            "conv2d_6 (Conv2D)            (None, 85, 85, 64)        36928     \n",
            "_________________________________________________________________\n",
            "activation_10 (Activation)   (None, 85, 85, 64)        0         \n",
            "_________________________________________________________________\n",
            "batch_normalization_9 (Batch (None, 85, 85, 64)        256       \n",
            "_________________________________________________________________\n",
            "max_pooling2d_5 (MaxPooling2 (None, 42, 42, 64)        0         \n",
            "_________________________________________________________________\n",
            "dropout_6 (Dropout)          (None, 42, 42, 64)        0         \n",
            "_________________________________________________________________\n",
            "conv2d_7 (Conv2D)            (None, 42, 42, 128)       73856     \n",
            "_________________________________________________________________\n",
            "activation_11 (Activation)   (None, 42, 42, 128)       0         \n",
            "_________________________________________________________________\n",
            "batch_normalization_10 (Batc (None, 42, 42, 128)       512       \n",
            "_________________________________________________________________\n",
            "conv2d_8 (Conv2D)            (None, 42, 42, 128)       147584    \n",
            "_________________________________________________________________\n",
            "activation_12 (Activation)   (None, 42, 42, 128)       0         \n",
            "_________________________________________________________________\n",
            "batch_normalization_11 (Batc (None, 42, 42, 128)       512       \n",
            "_________________________________________________________________\n",
            "max_pooling2d_6 (MaxPooling2 (None, 21, 21, 128)       0         \n",
            "_________________________________________________________________\n",
            "dropout_7 (Dropout)          (None, 21, 21, 128)       0         \n",
            "_________________________________________________________________\n",
            "flatten_2 (Flatten)          (None, 56448)             0         \n",
            "_________________________________________________________________\n",
            "dense_3 (Dense)              (None, 1024)              57803776  \n",
            "_________________________________________________________________\n",
            "activation_13 (Activation)   (None, 1024)              0         \n",
            "_________________________________________________________________\n",
            "batch_normalization_12 (Batc (None, 1024)              4096      \n",
            "_________________________________________________________________\n",
            "dropout_8 (Dropout)          (None, 1024)              0         \n",
            "_________________________________________________________________\n",
            "dense_4 (Dense)              (None, 38)                38950     \n",
            "_________________________________________________________________\n",
            "activation_14 (Activation)   (None, 38)                0         \n",
            "=================================================================\n",
            "Total params: 58,126,246\n",
            "Trainable params: 58,123,366\n",
            "Non-trainable params: 2,880\n",
            "_________________________________________________________________\n"
          ],
          "name": "stdout"
        }
      ]
    },
    {
      "cell_type": "code",
      "metadata": {
        "id": "IIP6ytd_QtpJ",
        "colab_type": "code",
        "colab": {
          "base_uri": "https://localhost:8080/",
          "height": 34
        },
        "outputId": "3db3feba-2749-4577-fe68-7fb179112102"
      },
      "source": [
        " opt = Adam(lr=INIT_LR, decay=INIT_LR / EPOCHS)\n",
        "# distribution\n",
        "model.compile(loss=\"categorical_crossentropy\", optimizer=opt,metrics=[\"accuracy\"])\n",
        "# train the network\n",
        "print(\"[INFO] training network...\")"
      ],
      "execution_count": 29,
      "outputs": [
        {
          "output_type": "stream",
          "text": [
            "[INFO] training network...\n"
          ],
          "name": "stdout"
        }
      ]
    },
    {
      "cell_type": "code",
      "metadata": {
        "id": "ZiVoSzlDQzdO",
        "colab_type": "code",
        "colab": {
          "base_uri": "https://localhost:8080/",
          "height": 139
        },
        "outputId": "3b025edc-f563-4ea6-d7d9-26c12435e35f"
      },
      "source": [
        " history = model.fit_generator(\n",
        "    trainGenerator,steps_per_epoch = 43432//64,epochs = 6,validation_data = validGenerator,verbose=1)"
      ],
      "execution_count": null,
      "outputs": [
        {
          "output_type": "stream",
          "text": [
            "Epoch 1/6\n",
            "678/678 [==============================] - 1040s 2s/step - loss: 4.3465 - accuracy: 0.6425 - val_loss: 7.4666 - val_accuracy: 0.3535\n",
            "Epoch 2/6\n",
            "678/678 [==============================] - 1035s 2s/step - loss: 3.2129 - accuracy: 0.7966 - val_loss: 7.2728 - val_accuracy: 0.5601\n",
            "Epoch 3/6\n",
            "300/678 [============>.................] - ETA: 8:07 - loss: 2.7206 - accuracy: 0.8418"
          ],
          "name": "stdout"
        }
      ]
    },
    {
      "cell_type": "code",
      "metadata": {
        "id": "6o9nVuZnk0Ef",
        "colab_type": "code",
        "colab": {}
      },
      "source": [
        "acc = history.history['accuracy']\n",
        "val_acc = history.history['val_accuracy']\n",
        "loss = history.history['loss']\n",
        "val_loss = history.history['val_loss']\n",
        "epochs = range(1, len(acc) + 1)\n",
        "#Train and validation accuracy\n",
        "plt.plot(epochs, acc, 'b', label='Training accurarcy')\n",
        "plt.plot(epochs, val_acc, 'r', label='Validation accurarcy')\n",
        "plt.title('Training and Validation accurarcy')\n",
        "plt.legend()\n",
        " \n",
        "plt.figure()\n",
        "#Train and validation loss\n",
        "plt.plot(epochs, loss, 'b', label='Training loss')\n",
        "plt.plot(epochs, val_loss, 'r', label='Validation loss')\n",
        "plt.title('Training and Validation loss')\n",
        "plt.legend()\n",
        "plt.show()"
      ],
      "execution_count": null,
      "outputs": []
    },
    {
      "cell_type": "code",
      "metadata": {
        "id": "Cc2B5rk5nAUJ",
        "colab_type": "code",
        "colab": {}
      },
      "source": [
        " print(\"[INFO] Calculating model accuracy\")\n",
        "scores = model.evaluate(validGenerator)\n",
        "print(f\"Test Accuracy: {scores[1]*100}\")"
      ],
      "execution_count": null,
      "outputs": []
    },
    {
      "cell_type": "code",
      "metadata": {
        "id": "AHKr64Wbsbb5",
        "colab_type": "code",
        "colab": {}
      },
      "source": [
        " print(\"[INFO] Saving model...\")\n",
        "model.save(\"disease.h5\")"
      ],
      "execution_count": null,
      "outputs": []
    },
    {
      "cell_type": "code",
      "metadata": {
        "id": "CrMZzrG3QU5H",
        "colab_type": "code",
        "colab": {}
      },
      "source": [
        "from keras.models import load_model\n",
        "model2 = load_model(\"disease.h5\")"
      ],
      "execution_count": null,
      "outputs": []
    },
    {
      "cell_type": "code",
      "metadata": {
        "id": "Vps4Uhd9Qkzf",
        "colab_type": "code",
        "colab": {}
      },
      "source": [
        "model2.summary()"
      ],
      "execution_count": null,
      "outputs": []
    },
    {
      "cell_type": "code",
      "metadata": {
        "id": "jX5nRh7dUBwH",
        "colab_type": "code",
        "colab": {}
      },
      "source": [
        "  opt = Adam(lr=INIT_LR, decay=INIT_LR / EPOCHS)\n",
        "# distribution\n",
        "model2.compile(loss=\"categorical_crossentropy\", optimizer=opt,metrics=[\"accuracy\"])"
      ],
      "execution_count": null,
      "outputs": []
    },
    {
      "cell_type": "code",
      "metadata": {
        "id": "D4werOH2pWqi",
        "colab_type": "code",
        "colab": {}
      },
      "source": [
        "imagePath = listdir('/content/Test')"
      ],
      "execution_count": null,
      "outputs": []
    },
    {
      "cell_type": "code",
      "metadata": {
        "id": "2hGN33npUR2q",
        "colab_type": "code",
        "colab": {}
      },
      "source": [
        "for image in imagePath:\n",
        "    print(\"[IMAGE] : \"+str(image))\n",
        "    path = '/content/Test/'+image\n",
        "    img = cv2.imread(path)\n",
        "    img = cv2.resize(img,(256,256))\n",
        " \n",
        "    img = np.reshape(img,[1,256,256,3])\n",
        "    img = img/255\n",
        "    cl = model.predict_classes(img)\n",
        "    print(\"[CLASS] : \"+str(cl[0]))"
      ],
      "execution_count": null,
      "outputs": []
    },
    {
      "cell_type": "code",
      "metadata": {
        "id": "1-0GL-RECuM0",
        "colab_type": "code",
        "colab": {}
      },
      "source": [
        ""
      ],
      "execution_count": null,
      "outputs": []
    },
    {
      "cell_type": "code",
      "metadata": {
        "id": "29qKdd7FBVdp",
        "colab_type": "code",
        "colab": {}
      },
      "source": [
        "import pandas as pd"
      ],
      "execution_count": null,
      "outputs": []
    }
  ]
}