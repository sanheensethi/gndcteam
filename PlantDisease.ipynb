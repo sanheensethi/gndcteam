{
  "nbformat": 4,
  "nbformat_minor": 0,
  "metadata": {
    "colab": {
      "name": "PlantDisease",
      "provenance": [],
      "authorship_tag": "ABX9TyON3goj4sCDMAQIYw4QhZeV",
      "include_colab_link": true
    },
    "kernelspec": {
      "name": "python3",
      "display_name": "Python 3"
    }
  },
  "cells": [
    {
      "cell_type": "markdown",
      "metadata": {
        "id": "view-in-github",
        "colab_type": "text"
      },
      "source": [
        "<a href=\"https://colab.research.google.com/github/sanheensethi/gndcteam/blob/master/PlantDisease.ipynb\" target=\"_parent\"><img src=\"https://colab.research.google.com/assets/colab-badge.svg\" alt=\"Open In Colab\"/></a>"
      ]
    },
    {
      "cell_type": "code",
      "metadata": {
        "id": "f0URuCMnSPNv",
        "colab_type": "code",
        "colab": {
          "base_uri": "https://localhost:8080/",
          "height": 139
        },
        "outputId": "4fd19352-11fb-49fa-bb1c-ae70df0423b3"
      },
      "source": [
        "#Downloading Dataset\n",
        "!git clone https://github.com/spMohanty/PlantVillage-Dataset"
      ],
      "execution_count": null,
      "outputs": [
        {
          "output_type": "stream",
          "text": [
            "Cloning into 'PlantVillage-Dataset'...\n",
            "remote: Enumerating objects: 163229, done.\u001b[K\n",
            "remote: Total 163229 (delta 0), reused 0 (delta 0), pack-reused 163229\u001b[K\n",
            "Receiving objects: 100% (163229/163229), 2.00 GiB | 7.64 MiB/s, done.\n",
            "Resolving deltas: 100% (99/99), done.\n",
            "Checking out files: 100% (182401/182401), done.\n"
          ],
          "name": "stdout"
        }
      ]
    },
    {
      "cell_type": "code",
      "metadata": {
        "id": "VyS2ARJkaiBk",
        "colab_type": "code",
        "colab": {}
      },
      "source": [
        "#copy the data\n",
        "!cp -R /content/PlantVillage-Dataset/raw /content/"
      ],
      "execution_count": null,
      "outputs": []
    },
    {
      "cell_type": "code",
      "metadata": {
        "id": "RaV6Lfvxdkf1",
        "colab_type": "code",
        "colab": {
          "base_uri": "https://localhost:8080/",
          "height": 34
        },
        "outputId": "15cae972-4b1c-4da4-e1be-2dc4bdb1b27b"
      },
      "source": [
        "#Inserting Libraries\n",
        "import numpy as np\n",
        "import pickle\n",
        "import cv2\n",
        "from os import listdir\n",
        "from sklearn.preprocessing import LabelBinarizer\n",
        "from keras.models import Sequential\n",
        "from keras.layers.normalization import BatchNormalization\n",
        "from keras.layers.convolutional import Conv2D\n",
        "from keras.layers.convolutional import MaxPooling2D\n",
        "from keras.layers.core import Activation, Flatten, Dropout, Dense\n",
        "from keras import backend as K\n",
        "from keras.preprocessing.image import ImageDataGenerator\n",
        "from keras.optimizers import Adam\n",
        "from keras.preprocessing import image\n",
        "from keras.preprocessing.image import img_to_array\n",
        "from sklearn.preprocessing import MultiLabelBinarizer\n",
        "from sklearn.model_selection import train_test_split\n",
        "import matplotlib.pyplot as plt"
      ],
      "execution_count": null,
      "outputs": [
        {
          "output_type": "stream",
          "text": [
            "Using TensorFlow backend.\n"
          ],
          "name": "stderr"
        }
      ]
    },
    {
      "cell_type": "code",
      "metadata": {
        "id": "I713OsRJdtU6",
        "colab_type": "code",
        "colab": {}
      },
      "source": [
        "#Initializing Variables\n",
        "EPOCHS = 25\n",
        "INIT_LR = 1e-3\n",
        "BS = 32\n",
        "default_image_size = tuple((256, 256))\n",
        "image_size = 0\n",
        "directory_root = '/content/raw/color'\n",
        "width=256\n",
        "height=256\n",
        "depth=3"
      ],
      "execution_count": null,
      "outputs": []
    },
    {
      "cell_type": "code",
      "metadata": {
        "id": "f5tzxzNweCZo",
        "colab_type": "code",
        "colab": {}
      },
      "source": [
        "#Reading Image as Matrix Function\n",
        "def convert_image_to_array(image_dir):\n",
        "    try:\n",
        "        image = cv2.imread(image_dir)\n",
        "        if image is not None :\n",
        "            image = cv2.resize(image, default_image_size)   \n",
        "            return img_to_array(image)\n",
        "        else :\n",
        "            return np.array([])\n",
        "    except Exception as e:\n",
        "        print(f\"Error : {e}\")\n",
        "        return None"
      ],
      "execution_count": null,
      "outputs": []
    },
    {
      "cell_type": "code",
      "metadata": {
        "id": "4t-SyEcuo3zh",
        "colab_type": "code",
        "colab": {
          "base_uri": "https://localhost:8080/",
          "height": 34
        },
        "outputId": "74966edc-03a2-4470-c157-54404aeda2c8"
      },
      "source": [
        "root_dir = listdir(directory_root)\n",
        "print(\"Number Of Folders : \" + str(len(root_dir)))\n",
        "image_list,label_list = [],[]"
      ],
      "execution_count": null,
      "outputs": [
        {
          "output_type": "stream",
          "text": [
            "Number Of Folders : 38\n"
          ],
          "name": "stdout"
        }
      ]
    },
    {
      "cell_type": "code",
      "metadata": {
        "id": "Rtnzv2YOhJvm",
        "colab_type": "code",
        "colab": {
          "base_uri": "https://localhost:8080/",
          "height": 1000
        },
        "outputId": "54812169-4e08-4d1b-80ce-67ad21545195"
      },
      "source": [
        "#Loading Images\n",
        "image_list,label_list = [],[]\n",
        "print(\"[INFO] Loading Images ...\")\n",
        "root_dir = listdir(directory_root)\n",
        "sumP = 0\n",
        "for directory in root_dir :\n",
        "    print(\"[FOLDER] Loading Folder : \"+str(directory))\n",
        "    plant_disease_image_list = listdir(f\"{directory_root}/{directory}\")\n",
        "    lenP = len(plant_disease_image_list)\n",
        "    print(\"[IMAGES] Images : \" + str(lenP))\n",
        "    sumP += lenP\n",
        "   \n",
        "print(\"Total Images : \" + str(sumP))"
      ],
      "execution_count": null,
      "outputs": [
        {
          "output_type": "stream",
          "text": [
            "[INFO] Loading Images ...\n",
            "[FOLDER] Loading Folder : Potato___Early_blight\n",
            "[IMAGES] Images : 1000\n",
            "[FOLDER] Loading Folder : Corn_(maize)___healthy\n",
            "[IMAGES] Images : 1162\n",
            "[FOLDER] Loading Folder : Tomato___Spider_mites Two-spotted_spider_mite\n",
            "[IMAGES] Images : 1676\n",
            "[FOLDER] Loading Folder : Cherry_(including_sour)___healthy\n",
            "[IMAGES] Images : 854\n",
            "[FOLDER] Loading Folder : Corn_(maize)___Cercospora_leaf_spot Gray_leaf_spot\n",
            "[IMAGES] Images : 513\n",
            "[FOLDER] Loading Folder : Grape___Esca_(Black_Measles)\n",
            "[IMAGES] Images : 1383\n",
            "[FOLDER] Loading Folder : Blueberry___healthy\n",
            "[IMAGES] Images : 1502\n",
            "[FOLDER] Loading Folder : Raspberry___healthy\n",
            "[IMAGES] Images : 371\n",
            "[FOLDER] Loading Folder : Cherry_(including_sour)___Powdery_mildew\n",
            "[IMAGES] Images : 1052\n",
            "[FOLDER] Loading Folder : Peach___healthy\n",
            "[IMAGES] Images : 360\n",
            "[FOLDER] Loading Folder : Squash___Powdery_mildew\n",
            "[IMAGES] Images : 1835\n",
            "[FOLDER] Loading Folder : Grape___Black_rot\n",
            "[IMAGES] Images : 1180\n",
            "[FOLDER] Loading Folder : Tomato___Leaf_Mold\n",
            "[IMAGES] Images : 952\n",
            "[FOLDER] Loading Folder : Orange___Haunglongbing_(Citrus_greening)\n",
            "[IMAGES] Images : 5507\n",
            "[FOLDER] Loading Folder : Apple___Black_rot\n",
            "[IMAGES] Images : 621\n",
            "[FOLDER] Loading Folder : Apple___healthy\n",
            "[IMAGES] Images : 1645\n",
            "[FOLDER] Loading Folder : Tomato___Septoria_leaf_spot\n",
            "[IMAGES] Images : 1771\n",
            "[FOLDER] Loading Folder : Pepper,_bell___Bacterial_spot\n",
            "[IMAGES] Images : 997\n",
            "[FOLDER] Loading Folder : Soybean___healthy\n",
            "[IMAGES] Images : 5090\n",
            "[FOLDER] Loading Folder : Tomato___Late_blight\n",
            "[IMAGES] Images : 1909\n",
            "[FOLDER] Loading Folder : Corn_(maize)___Common_rust_\n",
            "[IMAGES] Images : 1192\n",
            "[FOLDER] Loading Folder : Peach___Bacterial_spot\n",
            "[IMAGES] Images : 2297\n",
            "[FOLDER] Loading Folder : Apple___Cedar_apple_rust\n",
            "[IMAGES] Images : 275\n",
            "[FOLDER] Loading Folder : Potato___healthy\n",
            "[IMAGES] Images : 152\n",
            "[FOLDER] Loading Folder : Apple___Apple_scab\n",
            "[IMAGES] Images : 630\n",
            "[FOLDER] Loading Folder : Grape___Leaf_blight_(Isariopsis_Leaf_Spot)\n",
            "[IMAGES] Images : 1076\n",
            "[FOLDER] Loading Folder : Tomato___healthy\n",
            "[IMAGES] Images : 1591\n",
            "[FOLDER] Loading Folder : Tomato___Target_Spot\n",
            "[IMAGES] Images : 1404\n",
            "[FOLDER] Loading Folder : Tomato___Early_blight\n",
            "[IMAGES] Images : 1000\n",
            "[FOLDER] Loading Folder : Strawberry___healthy\n",
            "[IMAGES] Images : 456\n",
            "[FOLDER] Loading Folder : Potato___Late_blight\n",
            "[IMAGES] Images : 1000\n",
            "[FOLDER] Loading Folder : Corn_(maize)___Northern_Leaf_Blight\n",
            "[IMAGES] Images : 985\n",
            "[FOLDER] Loading Folder : Strawberry___Leaf_scorch\n",
            "[IMAGES] Images : 1109\n",
            "[FOLDER] Loading Folder : Grape___healthy\n",
            "[IMAGES] Images : 423\n",
            "[FOLDER] Loading Folder : Pepper,_bell___healthy\n",
            "[IMAGES] Images : 1478\n",
            "[FOLDER] Loading Folder : Tomato___Tomato_Yellow_Leaf_Curl_Virus\n",
            "[IMAGES] Images : 5357\n",
            "[FOLDER] Loading Folder : Tomato___Bacterial_spot\n",
            "[IMAGES] Images : 2127\n",
            "[FOLDER] Loading Folder : Tomato___Tomato_mosaic_virus\n",
            "[IMAGES] Images : 373\n",
            "Total Images : 54305\n"
          ],
          "name": "stdout"
        }
      ]
    },
    {
      "cell_type": "code",
      "metadata": {
        "id": "so0h_zNQDXFZ",
        "colab_type": "code",
        "colab": {}
      },
      "source": [
        "dataGeneration = ImageDataGenerator(validation_split=0.2,rotation_range=25, width_shift_range=0.1,\n",
        "    height_shift_range=0.1, shear_range=0.2, \n",
        "    zoom_range=0.2,horizontal_flip=True, \n",
        "    fill_mode=\"nearest\")"
      ],
      "execution_count": null,
      "outputs": []
    },
    {
      "cell_type": "code",
      "metadata": {
        "id": "aYRlWghdDtf0",
        "colab_type": "code",
        "colab": {
          "base_uri": "https://localhost:8080/",
          "height": 54
        },
        "outputId": "701fa292-5053-4f40-a3c9-b389d63c27a3"
      },
      "source": [
        "trainGenerator = dataGeneration.flow_from_directory(\n",
        "        '/content/raw/color/',\n",
        "        target_size=(256,256),\n",
        "        batch_size=32,\n",
        "        shuffle=True,\n",
        "        subset='training')"
      ],
      "execution_count": null,
      "outputs": [
        {
          "output_type": "stream",
          "text": [
            "Found 43456 images belonging to 38 classes.\n"
          ],
          "name": "stdout"
        }
      ]
    },
    {
      "cell_type": "code",
      "metadata": {
        "id": "3XlALTf2G6il",
        "colab_type": "code",
        "colab": {
          "base_uri": "https://localhost:8080/",
          "height": 54
        },
        "outputId": "09f48a83-e860-4857-c868-eb1f9941ec32"
      },
      "source": [
        " validGenerator = dataGeneration.flow_from_directory(\n",
        "        '/content/raw/color/',\n",
        "        target_size=(256,256),\n",
        "        batch_size=32,\n",
        "        shuffle=True,\n",
        "        subset='validation')"
      ],
      "execution_count": null,
      "outputs": [
        {
          "output_type": "stream",
          "text": [
            "Found 10849 images belonging to 38 classes.\n"
          ],
          "name": "stdout"
        }
      ]
    },
    {
      "cell_type": "code",
      "metadata": {
        "id": "SxqN50xrHSJ9",
        "colab_type": "code",
        "colab": {}
      },
      "source": [
        "model = Sequential()"
      ],
      "execution_count": null,
      "outputs": []
    },
    {
      "cell_type": "code",
      "metadata": {
        "id": "uyTY3UC9HV64",
        "colab_type": "code",
        "colab": {}
      },
      "source": [
        "inputShape = (256,256,3)\n",
        "chanDim = -1\n",
        "if K.image_data_format() == \"channels_first\":\n",
        "    inputShape = (depth, height, width)\n",
        "    chanDim = 1\n",
        "n_classes = 38"
      ],
      "execution_count": null,
      "outputs": []
    },
    {
      "cell_type": "code",
      "metadata": {
        "id": "i5i3U-2cIYrt",
        "colab_type": "code",
        "colab": {}
      },
      "source": [
        "model.add(Conv2D(32, (3, 3), padding=\"same\",name=\"conv_1\", input_shape=inputShape))\n",
        "model.add(Activation(\"relu\"))\n",
        "model.add(BatchNormalization(axis=chanDim))\n",
        "model.add(MaxPooling2D(pool_size=(3, 3)))\n",
        "model.add(Dropout(0.25))\n",
        "model.add(Conv2D(64, (3, 3), padding=\"same\"))\n",
        "model.add(Activation(\"relu\"))\n",
        "model.add(BatchNormalization(axis=chanDim))\n",
        "model.add(Conv2D(64, (3, 3), padding=\"same\"))\n",
        "model.add(Activation(\"relu\"))\n",
        "model.add(BatchNormalization(axis=chanDim))\n",
        "model.add(MaxPooling2D(pool_size=(2, 2)))\n",
        "model.add(Dropout(0.25))\n",
        "model.add(Conv2D(128, (3, 3), padding=\"same\"))\n",
        "model.add(Activation(\"relu\"))\n",
        "model.add(BatchNormalization(axis=chanDim))\n",
        "model.add(Conv2D(128, (3, 3), padding=\"same\"))\n",
        "model.add(Activation(\"relu\"))\n",
        "model.add(BatchNormalization(axis=chanDim))\n",
        "model.add(MaxPooling2D(pool_size=(2, 2)))\n",
        "model.add(Dropout(0.25))\n",
        "model.add(Flatten())\n",
        "model.add(Dense(1024))\n",
        "model.add(Activation(\"relu\"))\n",
        "model.add(BatchNormalization())\n",
        "model.add(Dropout(0.5))\n",
        "model.add(Dense(n_classes))\n",
        "model.add(Activation(\"softmax\"))"
      ],
      "execution_count": null,
      "outputs": []
    },
    {
      "cell_type": "code",
      "metadata": {
        "id": "dHkcxNbqOWYM",
        "colab_type": "code",
        "colab": {
          "base_uri": "https://localhost:8080/",
          "height": 1000
        },
        "outputId": "d87669a7-a9ac-4c45-a419-079a6a48dbf4"
      },
      "source": [
        " model.summary()"
      ],
      "execution_count": null,
      "outputs": [
        {
          "output_type": "stream",
          "text": [
            "Model: \"sequential_6\"\n",
            "_________________________________________________________________\n",
            "Layer (type)                 Output Shape              Param #   \n",
            "=================================================================\n",
            "conv_1 (Conv2D)              (None, 256, 256, 32)      896       \n",
            "_________________________________________________________________\n",
            "activation_35 (Activation)   (None, 256, 256, 32)      0         \n",
            "_________________________________________________________________\n",
            "batch_normalization_31 (Batc (None, 256, 256, 32)      128       \n",
            "_________________________________________________________________\n",
            "max_pooling2d_16 (MaxPooling (None, 85, 85, 32)        0         \n",
            "_________________________________________________________________\n",
            "dropout_21 (Dropout)         (None, 85, 85, 32)        0         \n",
            "_________________________________________________________________\n",
            "conv2d_29 (Conv2D)           (None, 85, 85, 64)        18496     \n",
            "_________________________________________________________________\n",
            "activation_36 (Activation)   (None, 85, 85, 64)        0         \n",
            "_________________________________________________________________\n",
            "batch_normalization_32 (Batc (None, 85, 85, 64)        256       \n",
            "_________________________________________________________________\n",
            "conv2d_30 (Conv2D)           (None, 85, 85, 64)        36928     \n",
            "_________________________________________________________________\n",
            "activation_37 (Activation)   (None, 85, 85, 64)        0         \n",
            "_________________________________________________________________\n",
            "batch_normalization_33 (Batc (None, 85, 85, 64)        256       \n",
            "_________________________________________________________________\n",
            "max_pooling2d_17 (MaxPooling (None, 42, 42, 64)        0         \n",
            "_________________________________________________________________\n",
            "dropout_22 (Dropout)         (None, 42, 42, 64)        0         \n",
            "_________________________________________________________________\n",
            "conv2d_31 (Conv2D)           (None, 42, 42, 128)       73856     \n",
            "_________________________________________________________________\n",
            "activation_38 (Activation)   (None, 42, 42, 128)       0         \n",
            "_________________________________________________________________\n",
            "batch_normalization_34 (Batc (None, 42, 42, 128)       512       \n",
            "_________________________________________________________________\n",
            "conv2d_32 (Conv2D)           (None, 42, 42, 128)       147584    \n",
            "_________________________________________________________________\n",
            "activation_39 (Activation)   (None, 42, 42, 128)       0         \n",
            "_________________________________________________________________\n",
            "batch_normalization_35 (Batc (None, 42, 42, 128)       512       \n",
            "_________________________________________________________________\n",
            "max_pooling2d_18 (MaxPooling (None, 21, 21, 128)       0         \n",
            "_________________________________________________________________\n",
            "dropout_23 (Dropout)         (None, 21, 21, 128)       0         \n",
            "_________________________________________________________________\n",
            "flatten_6 (Flatten)          (None, 56448)             0         \n",
            "_________________________________________________________________\n",
            "dense_10 (Dense)             (None, 1024)              57803776  \n",
            "_________________________________________________________________\n",
            "activation_40 (Activation)   (None, 1024)              0         \n",
            "_________________________________________________________________\n",
            "batch_normalization_36 (Batc (None, 1024)              4096      \n",
            "_________________________________________________________________\n",
            "dropout_24 (Dropout)         (None, 1024)              0         \n",
            "_________________________________________________________________\n",
            "dense_11 (Dense)             (None, 38)                38950     \n",
            "_________________________________________________________________\n",
            "activation_41 (Activation)   (None, 38)                0         \n",
            "=================================================================\n",
            "Total params: 58,126,246\n",
            "Trainable params: 58,123,366\n",
            "Non-trainable params: 2,880\n",
            "_________________________________________________________________\n"
          ],
          "name": "stdout"
        }
      ]
    },
    {
      "cell_type": "code",
      "metadata": {
        "id": "IIP6ytd_QtpJ",
        "colab_type": "code",
        "colab": {
          "base_uri": "https://localhost:8080/",
          "height": 34
        },
        "outputId": "695a2f23-8686-473a-dda6-867eb26399ca"
      },
      "source": [
        " opt = Adam(lr=INIT_LR, decay=INIT_LR / EPOCHS)\n",
        "# distribution\n",
        "model.compile(loss=\"binary_crossentropy\", optimizer=opt,metrics=[\"accuracy\"])\n",
        "# train the network\n",
        "print(\"[INFO] training network...\")"
      ],
      "execution_count": null,
      "outputs": [
        {
          "output_type": "stream",
          "text": [
            "[INFO] training network...\n"
          ],
          "name": "stdout"
        }
      ]
    },
    {
      "cell_type": "code",
      "metadata": {
        "id": "ZiVoSzlDQzdO",
        "colab_type": "code",
        "colab": {
          "base_uri": "https://localhost:8080/",
          "height": 173
        },
        "outputId": "a13edec5-5d04-4eaf-d26f-690819324028"
      },
      "source": [
        " history = model.fit_generator(\n",
        "    trainGenerator,samples_per_epoch = 3000,nb_epoch = 2,validation_data = validGenerator,nb_val_samples = 500)"
      ],
      "execution_count": 101,
      "outputs": [
        {
          "output_type": "stream",
          "text": [
            "/usr/local/lib/python3.6/dist-packages/ipykernel_launcher.py:2: UserWarning: The semantics of the Keras 2 argument `steps_per_epoch` is not the same as the Keras 1 argument `samples_per_epoch`. `steps_per_epoch` is the number of batches to draw from the generator at each epoch. Basically steps_per_epoch = samples_per_epoch/batch_size. Similarly `nb_val_samples`->`validation_steps` and `val_samples`->`steps` arguments have changed. Update your method calls accordingly.\n",
            "  \n",
            "/usr/local/lib/python3.6/dist-packages/ipykernel_launcher.py:2: UserWarning: Update your `fit_generator` call to the Keras 2 API: `fit_generator(<keras.pre..., validation_data=<keras.pre..., steps_per_epoch=93, epochs=2, validation_steps=500)`\n",
            "  \n"
          ],
          "name": "stderr"
        },
        {
          "output_type": "stream",
          "text": [
            "Epoch 1/2\n",
            "93/93 [==============================] - 1920s 21s/step - loss: 0.0828 - accuracy: 0.9764 - val_loss: 0.2079 - val_accuracy: 0.9607\n",
            "Epoch 2/2\n",
            "93/93 [==============================] - 1905s 20s/step - loss: 0.0729 - accuracy: 0.9780 - val_loss: 0.1025 - val_accuracy: 0.9760\n"
          ],
          "name": "stdout"
        }
      ]
    },
    {
      "cell_type": "code",
      "metadata": {
        "id": "6o9nVuZnk0Ef",
        "colab_type": "code",
        "colab": {
          "base_uri": "https://localhost:8080/",
          "height": 283
        },
        "outputId": "8fc28de8-5d24-4d65-d7ce-f8289231199f"
      },
      "source": [
        " acc = history.history['accuracy']\n",
        "val_acc = history.history['val_accuracy']\n",
        "loss = history.history['loss']\n",
        "val_loss = history.history['val_loss']\n",
        "epochs = range(1, len(acc) + 1)\n",
        "#Train and validation accuracy\n",
        "plt.plot(epochs, acc, 'b', label='Training accurarcy')\n",
        "plt.plot(epochs, val_acc, 'r', label='Validation accurarcy')\n",
        "plt.title('Training and Validation accurarcy')\n",
        "plt.legend()\n",
        " \n",
        "plt.figure()\n",
        "#Train and validation loss\n",
        "plt.plot(epochs, loss, 'b', label='Training loss')\n",
        "plt.plot(epochs, val_loss, 'r', label='Validation loss')\n",
        "plt.title('Training and Validation loss')\n",
        "plt.legend()\n",
        "plt.show()"
      ],
      "execution_count": 104,
      "outputs": [
        {
          "output_type": "display_data",
          "data": {
            "image/png": "[encoded data removed]",
            "text/plain": [
              "<Figure size 432x288 with 1 Axes>"
            ]
          },
          "metadata": {
            "tags": [],
            "needs_background": "light"
          }
        },
        {
          "output_type": "display_data",
          "data": {
            "image/png": "[encoded data removed]",
            "text/plain": [
              "<Figure size 432x288 with 1 Axes>"
            ]
          },
          "metadata": {
            "tags": [],
            "needs_background": "light"
          }
        }
      ]
    },
    {
      "cell_type": "code",
      "metadata": {
        "id": "Cc2B5rk5nAUJ",
        "colab_type": "code",
        "colab": {
          "base_uri": "https://localhost:8080/",
          "height": 88
        },
        "outputId": "9ed60353-27a9-4d20-989e-962eaf1ace9d"
      },
      "source": [
        " print(\"[INFO] Calculating model accuracy\")\n",
        "scores = model.evaluate(validGenerator)\n",
        "print(f\"Test Accuracy: {scores[1]*100}\")"
      ],
      "execution_count": 108,
      "outputs": [
        {
          "output_type": "stream",
          "text": [
            "[INFO] Calculating model accuracy\n",
            "340/340 [==============================] - 835s 2s/step\n",
            "Test Accuracy: 97.6194977760315\n"
          ],
          "name": "stdout"
        }
      ]
    },
    {
      "cell_type": "code",
      "metadata": {
        "id": "AHKr64Wbsbb5",
        "colab_type": "code",
        "colab": {
          "base_uri": "https://localhost:8080/",
          "height": 34
        },
        "outputId": "769ded6d-52a0-48f5-c98d-e269888cca5a"
      },
      "source": [
        " print(\"[INFO] Saving model...\")\n",
        "model.save(\"disease.h5\")"
      ],
      "execution_count": 109,
      "outputs": [
        {
          "output_type": "stream",
          "text": [
            "[INFO] Saving model...\n"
          ],
          "name": "stdout"
        }
      ]
    },
    {
      "cell_type": "code",
      "metadata": {
        "id": "sUg87LSAoW_d",
        "colab_type": "code",
        "colab": {
          "base_uri": "https://localhost:8080/",
          "height": 700
        },
        "outputId": "b125a166-9ef6-4fb3-d203-fc361a0349af"
      },
      "source": [
        "#Loading Images\n",
        "image_list = []\n",
        "print(\"[INFO] LOADING Folders...\")\n",
        "start = 0\n",
        "end = 38\n",
        "for i in range(start,end):\n",
        "    print(str(i)+\". \"+str(root_dir[i]))"
      ],
      "execution_count": null,
      "outputs": [
        {
          "output_type": "stream",
          "text": [
            "[INFO] LOADING Folders...\n",
            "0. Potato___Early_blight\n",
            "1. Corn_(maize)___healthy\n",
            "2. Tomato___Spider_mites Two-spotted_spider_mite\n",
            "3. Cherry_(including_sour)___healthy\n",
            "4. Corn_(maize)___Cercospora_leaf_spot Gray_leaf_spot\n",
            "5. Grape___Esca_(Black_Measles)\n",
            "6. Blueberry___healthy\n",
            "7. Raspberry___healthy\n",
            "8. Cherry_(including_sour)___Powdery_mildew\n",
            "9. Peach___healthy\n",
            "10. Squash___Powdery_mildew\n",
            "11. Grape___Black_rot\n",
            "12. Tomato___Leaf_Mold\n",
            "13. Orange___Haunglongbing_(Citrus_greening)\n",
            "14. Apple___Black_rot\n",
            "15. Apple___healthy\n",
            "16. Tomato___Septoria_leaf_spot\n",
            "17. Pepper,_bell___Bacterial_spot\n",
            "18. Soybean___healthy\n",
            "19. Tomato___Late_blight\n",
            "20. Corn_(maize)___Common_rust_\n",
            "21. Peach___Bacterial_spot\n",
            "22. Apple___Cedar_apple_rust\n",
            "23. Potato___healthy\n",
            "24. Apple___Apple_scab\n",
            "25. Grape___Leaf_blight_(Isariopsis_Leaf_Spot)\n",
            "26. Tomato___healthy\n",
            "27. Tomato___Target_Spot\n",
            "28. Tomato___Early_blight\n",
            "29. Strawberry___healthy\n",
            "30. Potato___Late_blight\n",
            "31. Corn_(maize)___Northern_Leaf_Blight\n",
            "32. Strawberry___Leaf_scorch\n",
            "33. Grape___healthy\n",
            "34. Pepper,_bell___healthy\n",
            "35. Tomato___Tomato_Yellow_Leaf_Curl_Virus\n",
            "36. Tomato___Bacterial_spot\n",
            "37. Tomato___Tomato_mosaic_virus\n"
          ],
          "name": "stdout"
        }
      ]
    },
    {
      "cell_type": "code",
      "metadata": {
        "id": "athxrUOI3iNd",
        "colab_type": "code",
        "colab": {}
      },
      "source": [
        "GettingDataFolder = [0,2,12,16,19,23,26,27,28,30,35,36,37]"
      ],
      "execution_count": null,
      "outputs": []
    },
    {
      "cell_type": "code",
      "metadata": {
        "id": "zB48xSOC33T_",
        "colab_type": "code",
        "colab": {
          "base_uri": "https://localhost:8080/",
          "height": 598
        },
        "outputId": "d9f78808-a5cd-4f4c-aa03-a0b92ddffb25"
      },
      "source": [
        " for i in GettingDataFolder:    \n",
        "    print(i)\n",
        "    directory = root_dir[i]\n",
        "    print(\"[FOLDER] Loading Folder : \"+str(directory))\n",
        "    plant_disease_image_list = listdir(f\"{directory_root}/{directory}\")\n",
        "    print(\"[IMAGES] LOADING \" + str(len(plant_disease_image_list)) + \" Images.\")\n",
        "    for image in plant_disease_image_list :\n",
        "        image_direc = f\"{directory_root}/{directory}/{image}\"\n",
        "        image_list.append(convert_image_to_array(image_direc))\n",
        "        label_list.append(directory)\n",
        "print(\"Total Number Of Images : \" + str(len(image_list)))"
      ],
      "execution_count": null,
      "outputs": [
        {
          "output_type": "stream",
          "text": [
            "0\n",
            "[FOLDER] Loading Folder : Potato___Early_blight\n",
            "[IMAGES] LOADING 1000 Images.\n",
            "2\n",
            "[FOLDER] Loading Folder : Tomato___Spider_mites Two-spotted_spider_mite\n",
            "[IMAGES] LOADING 1676 Images.\n",
            "12\n",
            "[FOLDER] Loading Folder : Tomato___Leaf_Mold\n",
            "[IMAGES] LOADING 952 Images.\n",
            "16\n",
            "[FOLDER] Loading Folder : Tomato___Septoria_leaf_spot\n",
            "[IMAGES] LOADING 1771 Images.\n",
            "19\n",
            "[FOLDER] Loading Folder : Tomato___Late_blight\n",
            "[IMAGES] LOADING 1909 Images.\n",
            "23\n",
            "[FOLDER] Loading Folder : Potato___healthy\n",
            "[IMAGES] LOADING 152 Images.\n",
            "26\n",
            "[FOLDER] Loading Folder : Tomato___healthy\n",
            "[IMAGES] LOADING 1591 Images.\n",
            "27\n",
            "[FOLDER] Loading Folder : Tomato___Target_Spot\n",
            "[IMAGES] LOADING 1404 Images.\n",
            "28\n",
            "[FOLDER] Loading Folder : Tomato___Early_blight\n",
            "[IMAGES] LOADING 1000 Images.\n",
            "30\n",
            "[FOLDER] Loading Folder : Potato___Late_blight\n",
            "[IMAGES] LOADING 1000 Images.\n",
            "35\n",
            "[FOLDER] Loading Folder : Tomato___Tomato_Yellow_Leaf_Curl_Virus\n",
            "[IMAGES] LOADING 5357 Images.\n"
          ],
          "name": "stdout"
        }
      ]
    },
    {
      "cell_type": "code",
      "metadata": {
        "id": "dxV-OjFsrDSj",
        "colab_type": "code",
        "colab": {
          "base_uri": "https://localhost:8080/",
          "height": 173
        },
        "outputId": "d2bc817d-15dd-4e92-ce84-5255de836a9e"
      },
      "source": [
        " #Loading Images\n",
        "print(\"[INFO] LOADING Folders...\")\n",
        "start = 3\n",
        "end = 6\n",
        "for i in range(start,end):\n",
        "    directory = root_dir[i]\n",
        "    print(\"[FOLDER] Loading Folder : \"+str(directory))\n",
        "    plant_disease_image_list = listdir(f\"{directory_root}/{directory}\")\n",
        "    print(\"[IMAGES] LOADING \" + str(len(plant_disease_image_list)) + \" Images.\")\n",
        "    for image in plant_disease_image_list :\n",
        "        image_direc = f\"{directory_root}/{directory}/{image}\"\n",
        "        image_list.append(convert_image_to_array(image_direc))\n",
        "        label_list.append(directory)\n",
        "print(\"Total Number Of Images : \" + str(len(image_list)))"
      ],
      "execution_count": null,
      "outputs": [
        {
          "output_type": "stream",
          "text": [
            "[INFO] LOADING Folders...\n",
            "[FOLDER] Loading Folder : Corn_(maize)___healthy\n",
            "[IMAGES] LOADING 1162 Images.\n",
            "[FOLDER] Loading Folder : Strawberry___healthy\n",
            "[IMAGES] LOADING 456 Images.\n",
            "[FOLDER] Loading Folder : Pepper,_bell___Bacterial_spot\n",
            "[IMAGES] LOADING 997 Images.\n",
            "Total Number Of Images : 8932\n"
          ],
          "name": "stdout"
        }
      ]
    },
    {
      "cell_type": "code",
      "metadata": {
        "id": "Rlz9Qz7WrYfv",
        "colab_type": "code",
        "colab": {
          "base_uri": "https://localhost:8080/",
          "height": 173
        },
        "outputId": "44080235-efbd-4e31-e6fa-42a2ff14ab0c"
      },
      "source": [
        "#Loading Images\n",
        "print(\"[INFO] LOADING Folders...\")\n",
        "start = 6\n",
        "end = 9\n",
        "for i in range(start,end):\n",
        "    directory = root_dir[i]\n",
        "    print(\"[FOLDER] Loading Folder : \"+str(directory))\n",
        "    plant_disease_image_list = listdir(f\"{directory_root}/{directory}\")\n",
        "    print(\"[IMAGES] LOADING \" + str(len(plant_disease_image_list)) + \" Images.\")\n",
        "    for image in plant_disease_image_list :\n",
        "        image_direc = f\"{directory_root}/{directory}/{image}\"\n",
        "        image_list.append(convert_image_to_array(image_direc))\n",
        "        label_list.append(directory)\n",
        "print(\"Total Number Of Images : \" + str(len(image_list)))"
      ],
      "execution_count": null,
      "outputs": [
        {
          "output_type": "stream",
          "text": [
            "[INFO] LOADING Folders...\n",
            "[FOLDER] Loading Folder : Blueberry___healthy\n",
            "[IMAGES] LOADING 1502 Images.\n",
            "[FOLDER] Loading Folder : Raspberry___healthy\n",
            "[IMAGES] LOADING 371 Images.\n",
            "[FOLDER] Loading Folder : Cherry_(including_sour)___Powdery_mildew\n",
            "[IMAGES] LOADING 1052 Images.\n",
            "Total Number Of Images : 9513\n"
          ],
          "name": "stdout"
        }
      ]
    },
    {
      "cell_type": "code",
      "metadata": {
        "id": "KptbFaGPs2zL",
        "colab_type": "code",
        "colab": {
          "base_uri": "https://localhost:8080/",
          "height": 173
        },
        "outputId": "7ffba0c1-c859-4852-bc59-f87aba36f65b"
      },
      "source": [
        " #Loading Images\n",
        "print(\"[INFO] LOADING Folders...\")\n",
        "start = 9\n",
        "end = 12\n",
        "for i in range(start,end):\n",
        "    directory = root_dir[i]\n",
        "    print(\"[FOLDER] Loading Folder : \"+str(directory))\n",
        "    plant_disease_image_list = listdir(f\"{directory_root}/{directory}\")\n",
        "    print(\"[IMAGES] LOADING \" + str(len(plant_disease_image_list)) + \" Images.\")\n",
        "    for image in plant_disease_image_list :\n",
        "        image_direc = f\"{directory_root}/{directory}/{image}\"\n",
        "        image_list.append(convert_image_to_array(image_direc))\n",
        "        label_list.append(directory)\n",
        "print(\"Total Number Of Images : \" + str(len(image_list)))"
      ],
      "execution_count": null,
      "outputs": [
        {
          "output_type": "stream",
          "text": [
            "[INFO] LOADING Folders...\n",
            "[FOLDER] Loading Folder : Peach___healthy\n",
            "[IMAGES] LOADING 360 Images.\n",
            "[FOLDER] Loading Folder : Squash___Powdery_mildew\n",
            "[IMAGES] LOADING 1835 Images.\n",
            "[FOLDER] Loading Folder : Grape___Black_rot\n",
            "[IMAGES] LOADING 1180 Images.\n",
            "Total Number Of Images : 12888\n"
          ],
          "name": "stdout"
        }
      ]
    },
    {
      "cell_type": "code",
      "metadata": {
        "id": "w_yaABqttD9J",
        "colab_type": "code",
        "colab": {
          "base_uri": "https://localhost:8080/",
          "height": 122
        },
        "outputId": "14fe5b6e-9b5b-4ded-c85a-84cdbba78320"
      },
      "source": [
        " #Loading Images\n",
        "print(\"[INFO] LOADING Folders...\")\n",
        "start = 12\n",
        "end = 15\n",
        "for i in range(start,end):\n",
        "    directory = root_dir[i]\n",
        "    print(\"[FOLDER] Loading Folder : \"+str(directory))\n",
        "    plant_disease_image_list = listdir(f\"{directory_root}/{directory}\")\n",
        "    print(\"[IMAGES] LOADING \" + str(len(plant_disease_image_list)) + \" Images.\")\n",
        "    for image in plant_disease_image_list :\n",
        "        image_direc = f\"{directory_root}/{directory}/{image}\"\n",
        "        image_list.append(convert_image_to_array(image_direc))\n",
        "        label_list.append(directory)\n",
        "print(\"Total Number Of Images : \" + str(len(image_list)))"
      ],
      "execution_count": null,
      "outputs": [
        {
          "output_type": "stream",
          "text": [
            "[INFO] LOADING Folders...\n",
            "[FOLDER] Loading Folder : Tomato___Leaf_Mold\n",
            "[IMAGES] LOADING 952 Images.\n",
            "[FOLDER] Loading Folder : Orange___Haunglongbing_(Citrus_greening)\n",
            "[IMAGES] LOADING 5507 Images.\n"
          ],
          "name": "stdout"
        }
      ]
    }
  ]
}