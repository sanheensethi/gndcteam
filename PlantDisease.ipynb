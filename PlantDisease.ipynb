{
  "nbformat": 4,
  "nbformat_minor": 0,
  "metadata": {
    "colab": {
      "name": "PlantDisease",
      "provenance": [],
      "collapsed_sections": [],
      "authorship_tag": "ABX9TyP8IVP2Z25DJjkwhK/6qyCh",
      "include_colab_link": true
    },
    "kernelspec": {
      "name": "python3",
      "display_name": "Python 3"
    },
    "accelerator": "GPU"
  },
  "cells": [
    {
      "cell_type": "markdown",
      "metadata": {
        "id": "view-in-github",
        "colab_type": "text"
      },
      "source": [
        "<a href=\"https://colab.research.google.com/github/sanheensethi/gndcteam/blob/master/PlantDisease.ipynb\" target=\"_parent\"><img src=\"https://colab.research.google.com/assets/colab-badge.svg\" alt=\"Open In Colab\"/></a>"
      ]
    },
    {
      "cell_type": "code",
      "metadata": {
        "id": "f0URuCMnSPNv",
        "colab_type": "code",
        "colab": {
          "base_uri": "https://localhost:8080/",
          "height": 139
        },
        "outputId": "b8a87a66-dcbf-4792-c644-38bed5c22f92"
      },
      "source": [
        "#Downloading Dataset\n",
        "!git clone https://github.com/spMohanty/PlantVillage-Dataset"
      ],
      "execution_count": null,
      "outputs": [
        {
          "output_type": "stream",
          "text": [
            "Cloning into 'PlantVillage-Dataset'...\n",
            "remote: Enumerating objects: 163229, done.\u001b[K\n",
            "remote: Total 163229 (delta 0), reused 0 (delta 0), pack-reused 163229\u001b[K\n",
            "Receiving objects: 100% (163229/163229), 2.00 GiB | 19.98 MiB/s, done.\n",
            "Resolving deltas: 100% (99/99), done.\n",
            "Checking out files: 100% (182401/182401), done.\n"
          ],
          "name": "stdout"
        }
      ]
    },
    {
      "cell_type": "code",
      "metadata": {
        "id": "VyS2ARJkaiBk",
        "colab_type": "code",
        "colab": {}
      },
      "source": [
        "#copy the data\n",
        "!cp -R /content/PlantVillage-Dataset/raw /content/"
      ],
      "execution_count": null,
      "outputs": []
    },
    {
      "cell_type": "code",
      "metadata": {
        "id": "WKFh5CEQurne",
        "colab_type": "code",
        "colab": {
          "base_uri": "https://localhost:8080/",
          "height": 54
        },
        "outputId": "802c7b01-b25a-4955-f15e-4c7b5f321eb8"
      },
      "source": [
        "#for removing any folder\n",
        "!rm -r /content/Test"
      ],
      "execution_count": null,
      "outputs": [
        {
          "output_type": "stream",
          "text": [
            "rm: cannot remove '/content/Test': No such file or directory\n"
          ],
          "name": "stdout"
        }
      ]
    },
    {
      "cell_type": "code",
      "metadata": {
        "id": "RaV6Lfvxdkf1",
        "colab_type": "code",
        "colab": {
          "base_uri": "https://localhost:8080/",
          "height": 54
        },
        "outputId": "90275771-0b83-439f-eb2b-a3e6f063bdbd"
      },
      "source": [
        "#Inserting Libraries\n",
        "import numpy as np\n",
        "import random\n",
        "import shutil\n",
        "import pickle\n",
        "import cv2\n",
        "from os import listdir\n",
        "from sklearn.preprocessing import LabelBinarizer\n",
        "from keras.models import Sequential\n",
        "from keras.layers.normalization import BatchNormalization\n",
        "from keras.layers.convolutional import Conv2D\n",
        "from keras.layers.convolutional import MaxPooling2D\n",
        "from keras.layers.core import Activation, Flatten, Dropout, Dense\n",
        "from keras import backend as K\n",
        "from keras.preprocessing.image import ImageDataGenerator\n",
        "from keras.optimizers import Adam\n",
        "from keras.preprocessing import image\n",
        "from keras.preprocessing.image import img_to_array\n",
        "from sklearn.preprocessing import MultiLabelBinarizer\n",
        "from sklearn.model_selection import train_test_split\n",
        "import matplotlib.pyplot as plt"
      ],
      "execution_count": null,
      "outputs": [
        {
          "output_type": "stream",
          "text": [
            "Using TensorFlow backend.\n"
          ],
          "name": "stderr"
        }
      ]
    },
    {
      "cell_type": "code",
      "metadata": {
        "id": "nmvEwsSKzdDg",
        "colab_type": "code",
        "colab": {}
      },
      "source": [
        " def TestFileFolderCreate() :   \n",
        "    randomFolder = random.randint(0,len(root_dir))\n",
        "    folderName = root_dir[randomFolder]\n",
        "    print(folderName)\n",
        "    imageList = listdir(f\"{directory_root}/{folderName}\")\n",
        "    randomImageNum = random.randint(0,len(imageList))\n",
        "    ImageName = imageList[randomImageNum]\n",
        "    print(ImageName)\n",
        "    WriteFile(folderName,ImageName)\n",
        "    src = f\"{directory_root}/{folderName}/{ImageName}\"\n",
        "    des = '/content/Test/'\n",
        "    shutil.move(src,des)"
      ],
      "execution_count": null,
      "outputs": []
    },
    {
      "cell_type": "code",
      "metadata": {
        "id": "I713OsRJdtU6",
        "colab_type": "code",
        "colab": {}
      },
      "source": [
        "#Initializing Variables\n",
        "EPOCHS = 25\n",
        "INIT_LR = 1e-4\n",
        "BS = 32\n",
        "default_image_size = tuple((256, 256))\n",
        "image_size = 0\n",
        "directory_root = '/content/raw/color'\n",
        "width=256\n",
        "height=256\n",
        "depth=3"
      ],
      "execution_count": null,
      "outputs": []
    },
    {
      "cell_type": "code",
      "metadata": {
        "id": "4t-SyEcuo3zh",
        "colab_type": "code",
        "colab": {
          "base_uri": "https://localhost:8080/",
          "height": 34
        },
        "outputId": "6886f2d9-f585-4f13-f6b9-69a6e590bfdc"
      },
      "source": [
        "root_dir = listdir(directory_root)\n",
        "print(\"Number Of Folders : \" + str(len(root_dir)))"
      ],
      "execution_count": null,
      "outputs": [
        {
          "output_type": "stream",
          "text": [
            "Number Of Folders : 38\n"
          ],
          "name": "stdout"
        }
      ]
    },
    {
      "cell_type": "code",
      "metadata": {
        "id": "Oj1BF4RTwsAC",
        "colab_type": "code",
        "colab": {}
      },
      "source": [
        "!mkdir Test"
      ],
      "execution_count": null,
      "outputs": []
    },
    {
      "cell_type": "code",
      "metadata": {
        "id": "raxSKny6QdFL",
        "colab_type": "code",
        "colab": {}
      },
      "source": [
        "def WriteFile(ClassName,ImageName):\n",
        "    f = open(\"TestFile.csv\",\"a+\")\n",
        "    f.write(ClassName+\"@#\"+ImageName+\"\\n\")"
      ],
      "execution_count": null,
      "outputs": []
    },
    {
      "cell_type": "code",
      "metadata": {
        "id": "vU1lfPjGTvBS",
        "colab_type": "code",
        "colab": {
          "base_uri": "https://localhost:8080/",
          "height": 547
        },
        "outputId": "0635b020-7ae9-4c5c-a78f-422d0d6844f7"
      },
      "source": [
        "for i in range(0,10):\n",
        "    print(i)\n",
        "    TestFileFolderCreate()"
      ],
      "execution_count": null,
      "outputs": [
        {
          "output_type": "stream",
          "text": [
            "0\n",
            "Tomato___Tomato_mosaic_virus\n",
            "78c968a3-8083-4924-b351-3f36569cf33a___PSU_CG 2214.JPG\n",
            "1\n",
            "Cherry_(including_sour)___Powdery_mildew\n",
            "9d879873-2f64-473a-8c76-72ad55131402___FREC_Pwd.M 4800.JPG\n",
            "2\n",
            "Tomato___Early_blight\n",
            "c5ab9d87-f1bf-4fce-8133-c80ac2d52dd5___RS_Erly.B 7849.JPG\n",
            "3\n",
            "Soybean___healthy\n",
            "83714953-4eba-4075-898a-b215d86a3989___RS_HL 5616.JPG\n",
            "4\n",
            "Grape___healthy\n",
            "e17f9151-51a0-417d-a7c6-9ad9a2cce0d9___Mt.N.V_HL 9053.JPG\n",
            "5\n",
            "Tomato___Spider_mites Two-spotted_spider_mite\n",
            "fbac63f2-cfbc-4c5c-a623-e40b1314fc83___Com.G_SpM_FL 8784.JPG\n",
            "6\n",
            "Corn_(maize)___Northern_Leaf_Blight\n",
            "a3b588f0-1c34-4a1e-ad47-c2202a896173___RS_NLB 3834.JPG\n",
            "7\n",
            "Pepper,_bell___healthy\n",
            "b06117a8-6ca6-4b82-96cf-07604beb8f1b___JR_HL 5906.JPG\n",
            "8\n",
            "Corn_(maize)___healthy\n",
            "867d1311-1976-4387-8fb0-28c9ce135f0b___R.S_HL 0595 copy.jpg\n",
            "9\n",
            "Apple___Black_rot\n",
            "6941b868-48df-4f58-9b34-4bc9d9e82867___JR_FrgE.S 8668.JPG\n"
          ],
          "name": "stdout"
        }
      ]
    },
    {
      "cell_type": "code",
      "metadata": {
        "id": "Rtnzv2YOhJvm",
        "colab_type": "code",
        "colab": {
          "base_uri": "https://localhost:8080/",
          "height": 833
        },
        "outputId": "f631e599-9c58-4e60-98b7-e2e273511f0b"
      },
      "source": [
        "#Viewing Number of Images in Folder\n",
        " \n",
        "class my_dictionary(dict): \n",
        " \n",
        "  \n",
        " \n",
        "    # __init__ function \n",
        " \n",
        "    def __init__(self): \n",
        " \n",
        "        self = dict() \n",
        " \n",
        "          \n",
        " \n",
        "    # Function to add key:value \n",
        " \n",
        "    def add(self, key, value): \n",
        " \n",
        "        self[key] = value \n",
        " \n",
        "print(\"[INFO] Loading Data \")\n",
        "root_dir = listdir(directory_root)\n",
        "sumP = 0\n",
        "Y = []\n",
        " \n",
        "dict_obj = my_dictionary()\n",
        "j=0\n",
        "for directory in root_dir :\n",
        "    #print(\"[FOLDER] Loading Folder : \"+str(directory))\n",
        "    plant_disease_image_list = listdir(f\"{directory_root}/{directory}\")\n",
        "    lenP = len(plant_disease_image_list)\n",
        "    Y.append (lenP)\n",
        "    dict_obj.add(j,lenP)\n",
        "    j=j+1\n",
        "    print(\"[IMAGES] Images : \" + str(lenP))\n",
        "    sumP += lenP\n",
        "   \n",
        "print(\"Total Images : \" + str(sumP))\n",
        " \n",
        "#BarGraph\n",
        "plt.bar(range(0,len(root_dir)),Y)\n",
        "plt.xlabel(\"Class Name\")\n",
        "plt.ylabel(\"Number of Images\")\n",
        "plt.title(\"Number Of Images in every folder\")\n",
        "plt.show()"
      ],
      "execution_count": null,
      "outputs": [
        {
          "output_type": "stream",
          "text": [
            "[INFO] Loading Data \n",
            "[IMAGES] Images : 5089\n",
            "[IMAGES] Images : 513\n",
            "[IMAGES] Images : 984\n",
            "[IMAGES] Images : 5357\n",
            "[IMAGES] Images : 1076\n",
            "[IMAGES] Images : 952\n",
            "[IMAGES] Images : 1502\n",
            "[IMAGES] Images : 1000\n",
            "[IMAGES] Images : 2297\n",
            "[IMAGES] Images : 854\n",
            "[IMAGES] Images : 1192\n",
            "[IMAGES] Images : 630\n",
            "[IMAGES] Images : 422\n",
            "[IMAGES] Images : 1180\n",
            "[IMAGES] Images : 1000\n",
            "[IMAGES] Images : 1675\n",
            "[IMAGES] Images : 1051\n",
            "[IMAGES] Images : 456\n",
            "[IMAGES] Images : 1161\n",
            "[IMAGES] Images : 152\n",
            "[IMAGES] Images : 371\n",
            "[IMAGES] Images : 1835\n",
            "[IMAGES] Images : 275\n",
            "[IMAGES] Images : 1109\n",
            "[IMAGES] Images : 360\n",
            "[IMAGES] Images : 997\n",
            "[IMAGES] Images : 620\n",
            "[IMAGES] Images : 5507\n",
            "[IMAGES] Images : 372\n",
            "[IMAGES] Images : 1477\n",
            "[IMAGES] Images : 1645\n",
            "[IMAGES] Images : 2127\n",
            "[IMAGES] Images : 1771\n",
            "[IMAGES] Images : 1909\n",
            "[IMAGES] Images : 1383\n",
            "[IMAGES] Images : 1404\n",
            "[IMAGES] Images : 1591\n",
            "[IMAGES] Images : 999\n",
            "Total Images : 54295\n"
          ],
          "name": "stdout"
        },
        {
          "output_type": "display_data",
          "data": {
            "image/png": "[encoded data removed]",
            "text/plain": [
              "<Figure size 432x288 with 1 Axes>"
            ]
          },
          "metadata": {
            "tags": [],
            "needs_background": "light"
          }
        }
      ]
    },
    {
      "cell_type": "code",
      "metadata": {
        "id": "pBcSpnbmQp96",
        "colab_type": "code",
        "colab": {
          "base_uri": "https://localhost:8080/",
          "height": 625
        },
        "outputId": "8579c9c6-565d-4c11-d690-401be8c69c68"
      },
      "source": [
        "print(dict_obj) \n",
        "import math\n",
        " \n",
        "def create_class_weight(labels_dict,mu=0.15):\n",
        "    total = np.sum(labels_dict.values())\n",
        "    keys = labels_dict.keys()\n",
        "    class_weight = dict()\n",
        " \n",
        "    for key in keys:\n",
        "        score = math.log(mu*total/float(labels_dict[key]))\n",
        "        class_weight[key] = score if score > 1.0 else 1.0\n",
        " \n",
        "    return class_weight\n",
        " \n",
        "# random labels_dict\n",
        " \n",
        "sh = create_class_weight(dict_obj)\n",
        "print(sh)"
      ],
      "execution_count": null,
      "outputs": [
        {
          "output_type": "stream",
          "text": [
            "{0: 5090, 1: 513, 2: 984, 3: 5357, 4: 1076, 5: 952, 6: 1502, 7: 1000, 8: 2297, 9: 854, 10: 1191, 11: 630, 12: 423, 13: 1180, 14: 1000, 15: 1676, 16: 1052, 17: 456, 18: 1162, 19: 152, 20: 371, 21: 1834, 22: 275, 23: 1107, 24: 359, 25: 997, 26: 621, 27: 5506, 28: 372, 29: 1478, 30: 1645, 31: 2127, 32: 1770, 33: 1909, 34: 1383, 35: 1404, 36: 1590, 37: 1000}\n"
          ],
          "name": "stdout"
        },
        {
          "output_type": "error",
          "ename": "TypeError",
          "evalue": "ignored",
          "traceback": [
            "\u001b[0;31m---------------------------------------------------------------------------\u001b[0m",
            "\u001b[0;31mTypeError\u001b[0m                                 Traceback (most recent call last)",
            "\u001b[0;32m<ipython-input-48-50baef47db33>\u001b[0m in \u001b[0;36m<module>\u001b[0;34m()\u001b[0m\n\u001b[1;32m     15\u001b[0m \u001b[0;31m# random labels_dict\u001b[0m\u001b[0;34m\u001b[0m\u001b[0;34m\u001b[0m\u001b[0;34m\u001b[0m\u001b[0m\n\u001b[1;32m     16\u001b[0m \u001b[0;34m\u001b[0m\u001b[0m\n\u001b[0;32m---> 17\u001b[0;31m \u001b[0msh\u001b[0m \u001b[0;34m=\u001b[0m \u001b[0mcreate_class_weight\u001b[0m\u001b[0;34m(\u001b[0m\u001b[0mdict_obj\u001b[0m\u001b[0;34m)\u001b[0m\u001b[0;34m\u001b[0m\u001b[0;34m\u001b[0m\u001b[0m\n\u001b[0m\u001b[1;32m     18\u001b[0m \u001b[0mprint\u001b[0m\u001b[0;34m(\u001b[0m\u001b[0msh\u001b[0m\u001b[0;34m)\u001b[0m\u001b[0;34m\u001b[0m\u001b[0;34m\u001b[0m\u001b[0m\n",
            "\u001b[0;32m<ipython-input-48-50baef47db33>\u001b[0m in \u001b[0;36mcreate_class_weight\u001b[0;34m(labels_dict, mu)\u001b[0m\n\u001b[1;32m      8\u001b[0m \u001b[0;34m\u001b[0m\u001b[0m\n\u001b[1;32m      9\u001b[0m     \u001b[0;32mfor\u001b[0m \u001b[0mkey\u001b[0m \u001b[0;32min\u001b[0m \u001b[0mkeys\u001b[0m\u001b[0;34m:\u001b[0m\u001b[0;34m\u001b[0m\u001b[0;34m\u001b[0m\u001b[0m\n\u001b[0;32m---> 10\u001b[0;31m         \u001b[0mscore\u001b[0m \u001b[0;34m=\u001b[0m \u001b[0mmath\u001b[0m\u001b[0;34m.\u001b[0m\u001b[0mlog\u001b[0m\u001b[0;34m(\u001b[0m\u001b[0mmu\u001b[0m\u001b[0;34m*\u001b[0m\u001b[0mtotal\u001b[0m\u001b[0;34m/\u001b[0m\u001b[0mfloat\u001b[0m\u001b[0;34m(\u001b[0m\u001b[0mlabels_dict\u001b[0m\u001b[0;34m[\u001b[0m\u001b[0mkey\u001b[0m\u001b[0;34m]\u001b[0m\u001b[0;34m)\u001b[0m\u001b[0;34m)\u001b[0m\u001b[0;34m\u001b[0m\u001b[0;34m\u001b[0m\u001b[0m\n\u001b[0m\u001b[1;32m     11\u001b[0m         \u001b[0mclass_weight\u001b[0m\u001b[0;34m[\u001b[0m\u001b[0mkey\u001b[0m\u001b[0;34m]\u001b[0m \u001b[0;34m=\u001b[0m \u001b[0mscore\u001b[0m \u001b[0;32mif\u001b[0m \u001b[0mscore\u001b[0m \u001b[0;34m>\u001b[0m \u001b[0;36m1.0\u001b[0m \u001b[0;32melse\u001b[0m \u001b[0;36m1.0\u001b[0m\u001b[0;34m\u001b[0m\u001b[0;34m\u001b[0m\u001b[0m\n\u001b[1;32m     12\u001b[0m \u001b[0;34m\u001b[0m\u001b[0m\n",
            "\u001b[0;31mTypeError\u001b[0m: unsupported operand type(s) for *: 'float' and 'dict_values'"
          ]
        }
      ]
    },
    {
      "cell_type": "code",
      "metadata": {
        "id": "so0h_zNQDXFZ",
        "colab_type": "code",
        "colab": {}
      },
      "source": [
        "dataGeneration = ImageDataGenerator(validation_split=0.2,rescale=1./255,rotation_range=25, width_shift_range=0.1,\n",
        "    height_shift_range=0.1, shear_range=0.2, \n",
        "    zoom_range=0.2,horizontal_flip=True, \n",
        "    fill_mode=\"nearest\")"
      ],
      "execution_count": null,
      "outputs": []
    },
    {
      "cell_type": "code",
      "metadata": {
        "id": "aYRlWghdDtf0",
        "colab_type": "code",
        "colab": {
          "base_uri": "https://localhost:8080/",
          "height": 71
        },
        "outputId": "2a8765c3-8612-4304-e659-098c8c024fe6"
      },
      "source": [
        "trainGenerator = dataGeneration.flow_from_directory(\n",
        "        '/content/raw/color/',\n",
        "        target_size=(256,256),\n",
        "        batch_size=64,\n",
        "        class_mode='categorical',\n",
        "        shuffle=True,\n",
        "        subset='training')\n",
        "print(trainGenerator)\n",
        "classes = trainGenerator.class_indices"
      ],
      "execution_count": null,
      "outputs": [
        {
          "output_type": "stream",
          "text": [
            "Found 43449 images belonging to 38 classes.\n",
            "<keras.preprocessing.image.DirectoryIterator object at 0x7f0111e75780>\n"
          ],
          "name": "stdout"
        }
      ]
    },
    {
      "cell_type": "code",
      "metadata": {
        "id": "uwD4c86fvKGW",
        "colab_type": "code",
        "colab": {}
      },
      "source": [
        "def ClassesLabel(classes):\n",
        "    j=0\n",
        "    for i in classes :\n",
        "        f = open(\"Classes.csv\",\"a+\")\n",
        "        f.write(str(j)+\"@#\"+i+\"\\n\")\n",
        "        j = j+1"
      ],
      "execution_count": null,
      "outputs": []
    },
    {
      "cell_type": "code",
      "metadata": {
        "id": "RKVVxcqOvTQi",
        "colab_type": "code",
        "colab": {}
      },
      "source": [
        "ClassesLabel(classes)"
      ],
      "execution_count": null,
      "outputs": []
    },
    {
      "cell_type": "code",
      "metadata": {
        "id": "3XlALTf2G6il",
        "colab_type": "code",
        "colab": {
          "base_uri": "https://localhost:8080/",
          "height": 54
        },
        "outputId": "67493d2f-a10e-494f-afb3-75d82fda6f21"
      },
      "source": [
        " validGenerator = dataGeneration.flow_from_directory(\n",
        "        '/content/raw/color/',\n",
        "        target_size=(256,256),\n",
        "        batch_size=64,\n",
        "        class_mode='categorical',\n",
        "        shuffle=True,\n",
        "        subset='validation')"
      ],
      "execution_count": null,
      "outputs": [
        {
          "output_type": "stream",
          "text": [
            "Found 10846 images belonging to 38 classes.\n"
          ],
          "name": "stdout"
        }
      ]
    },
    {
      "cell_type": "code",
      "metadata": {
        "id": "SxqN50xrHSJ9",
        "colab_type": "code",
        "colab": {}
      },
      "source": [
        "model = Sequential()"
      ],
      "execution_count": null,
      "outputs": []
    },
    {
      "cell_type": "code",
      "metadata": {
        "id": "uyTY3UC9HV64",
        "colab_type": "code",
        "colab": {}
      },
      "source": [
        "inputShape = (256,256,3)\n",
        "chanDim = -1\n",
        "if K.image_data_format() == \"channels_first\":\n",
        "    inputShape = (depth, height, width)\n",
        "    chanDim = 1\n",
        "n_classes = 38\n",
        "from keras.regularizers import l2"
      ],
      "execution_count": null,
      "outputs": []
    },
    {
      "cell_type": "code",
      "metadata": {
        "id": "i5i3U-2cIYrt",
        "colab_type": "code",
        "colab": {}
      },
      "source": [
        "model.add(Conv2D(32, (3, 3), padding=\"same\",name=\"conv_1\",kernel_regularizer=l2(0.01), bias_regularizer=l2(0.01),input_shape=inputShape))\n",
        "model.add(Activation(\"relu\"))\n",
        "model.add(BatchNormalization(axis=chanDim))\n",
        "model.add(MaxPooling2D(pool_size=(3, 3)))\n",
        "model.add(Dropout(0.20))\n",
        "model.add(Conv2D(64, (3, 3),kernel_regularizer=l2(0.01), bias_regularizer=l2(0.01),padding=\"same\"))\n",
        "model.add(Activation(\"relu\"))\n",
        "model.add(BatchNormalization(axis=chanDim))\n",
        "model.add(Conv2D(64, (3, 3),kernel_regularizer=l2(0.01), bias_regularizer=l2(0.01),padding=\"same\"))\n",
        "model.add(Activation(\"relu\"))\n",
        "model.add(BatchNormalization(axis=chanDim))\n",
        "model.add(MaxPooling2D(pool_size=(2, 2)))\n",
        "model.add(Dropout(0.30))\n",
        "model.add(Conv2D(128, (3, 3),kernel_regularizer=l2(0.01), bias_regularizer=l2(0.01),padding=\"same\"))\n",
        "model.add(Activation(\"relu\"))\n",
        "model.add(BatchNormalization(axis=chanDim))\n",
        "model.add(Conv2D(128, (3, 3),kernel_regularizer=l2(0.01), bias_regularizer=l2(0.01),padding=\"same\"))\n",
        "model.add(Activation(\"relu\"))\n",
        "model.add(BatchNormalization(axis=chanDim))\n",
        "model.add(MaxPooling2D(pool_size=(2, 2)))\n",
        "model.add(Dropout(0.40))\n",
        "model.add(Flatten())\n",
        "model.add(Dense(1024))\n",
        "model.add(Activation(\"relu\"))\n",
        "model.add(BatchNormalization())\n",
        "model.add(Dropout(0.5))\n",
        "model.add(Dense(n_classes))\n",
        "model.add(Activation(\"softmax\"))"
      ],
      "execution_count": null,
      "outputs": []
    },
    {
      "cell_type": "code",
      "metadata": {
        "id": "dHkcxNbqOWYM",
        "colab_type": "code",
        "colab": {
          "base_uri": "https://localhost:8080/",
          "height": 1000
        },
        "outputId": "901cbdcb-c5d7-4778-e307-ae706410a2db"
      },
      "source": [
        " model.summary()"
      ],
      "execution_count": null,
      "outputs": [
        {
          "output_type": "stream",
          "text": [
            "Model: \"sequential_1\"\n",
            "_________________________________________________________________\n",
            "Layer (type)                 Output Shape              Param #   \n",
            "=================================================================\n",
            "conv_1 (Conv2D)              (None, 256, 256, 32)      896       \n",
            "_________________________________________________________________\n",
            "activation_1 (Activation)    (None, 256, 256, 32)      0         \n",
            "_________________________________________________________________\n",
            "batch_normalization_1 (Batch (None, 256, 256, 32)      128       \n",
            "_________________________________________________________________\n",
            "max_pooling2d_1 (MaxPooling2 (None, 85, 85, 32)        0         \n",
            "_________________________________________________________________\n",
            "dropout_1 (Dropout)          (None, 85, 85, 32)        0         \n",
            "_________________________________________________________________\n",
            "conv2d_1 (Conv2D)            (None, 85, 85, 64)        18496     \n",
            "_________________________________________________________________\n",
            "activation_2 (Activation)    (None, 85, 85, 64)        0         \n",
            "_________________________________________________________________\n",
            "batch_normalization_2 (Batch (None, 85, 85, 64)        256       \n",
            "_________________________________________________________________\n",
            "conv2d_2 (Conv2D)            (None, 85, 85, 64)        36928     \n",
            "_________________________________________________________________\n",
            "activation_3 (Activation)    (None, 85, 85, 64)        0         \n",
            "_________________________________________________________________\n",
            "batch_normalization_3 (Batch (None, 85, 85, 64)        256       \n",
            "_________________________________________________________________\n",
            "max_pooling2d_2 (MaxPooling2 (None, 42, 42, 64)        0         \n",
            "_________________________________________________________________\n",
            "dropout_2 (Dropout)          (None, 42, 42, 64)        0         \n",
            "_________________________________________________________________\n",
            "conv2d_3 (Conv2D)            (None, 42, 42, 128)       73856     \n",
            "_________________________________________________________________\n",
            "activation_4 (Activation)    (None, 42, 42, 128)       0         \n",
            "_________________________________________________________________\n",
            "batch_normalization_4 (Batch (None, 42, 42, 128)       512       \n",
            "_________________________________________________________________\n",
            "conv2d_4 (Conv2D)            (None, 42, 42, 128)       147584    \n",
            "_________________________________________________________________\n",
            "activation_5 (Activation)    (None, 42, 42, 128)       0         \n",
            "_________________________________________________________________\n",
            "batch_normalization_5 (Batch (None, 42, 42, 128)       512       \n",
            "_________________________________________________________________\n",
            "max_pooling2d_3 (MaxPooling2 (None, 21, 21, 128)       0         \n",
            "_________________________________________________________________\n",
            "dropout_3 (Dropout)          (None, 21, 21, 128)       0         \n",
            "_________________________________________________________________\n",
            "flatten_1 (Flatten)          (None, 56448)             0         \n",
            "_________________________________________________________________\n",
            "dense_1 (Dense)              (None, 1024)              57803776  \n",
            "_________________________________________________________________\n",
            "activation_6 (Activation)    (None, 1024)              0         \n",
            "_________________________________________________________________\n",
            "batch_normalization_6 (Batch (None, 1024)              4096      \n",
            "_________________________________________________________________\n",
            "dropout_4 (Dropout)          (None, 1024)              0         \n",
            "_________________________________________________________________\n",
            "dense_2 (Dense)              (None, 38)                38950     \n",
            "_________________________________________________________________\n",
            "activation_7 (Activation)    (None, 38)                0         \n",
            "=================================================================\n",
            "Total params: 58,126,246\n",
            "Trainable params: 58,123,366\n",
            "Non-trainable params: 2,880\n",
            "_________________________________________________________________\n"
          ],
          "name": "stdout"
        }
      ]
    },
    {
      "cell_type": "code",
      "metadata": {
        "id": "vCNC0wJSt4ux",
        "colab_type": "code",
        "colab": {}
      },
      "source": [
        "!mkdir Weights"
      ],
      "execution_count": null,
      "outputs": []
    },
    {
      "cell_type": "code",
      "metadata": {
        "id": "IIP6ytd_QtpJ",
        "colab_type": "code",
        "colab": {
          "base_uri": "https://localhost:8080/",
          "height": 34
        },
        "outputId": "428e9b29-d41f-4cbc-a93e-822f1dae4d4a"
      },
      "source": [
        " opt = Adam(lr=INIT_LR, decay=INIT_LR / EPOCHS)\n",
        "# distribution\n",
        "model.compile(loss=\"categorical_crossentropy\", optimizer=opt,metrics=[\"accuracy\"])\n",
        "# train the network\n",
        "print(\"[INFO] training network...\")\n",
        "from keras.callbacks import ModelCheckpoint\n",
        " \n",
        "filepath=\"/content/Weights/weights-improvement-{epoch:02d}-{val_accuracy:.2f}.hdf5\"\n",
        "checkpoint = ModelCheckpoint(filepath, monitor='val_accuracy', verbose=1, save_best_only=True, mode='max')\n",
        "callbacks_list = [checkpoint]"
      ],
      "execution_count": null,
      "outputs": [
        {
          "output_type": "stream",
          "text": [
            "[INFO] training network...\n"
          ],
          "name": "stdout"
        }
      ]
    },
    {
      "cell_type": "code",
      "metadata": {
        "id": "ZiVoSzlDQzdO",
        "colab_type": "code",
        "colab": {
          "base_uri": "https://localhost:8080/",
          "height": 173
        },
        "outputId": "b7d8dcc0-d7ad-4a48-dc91-a8e24477edee"
      },
      "source": [
        " history = model.fit_generator(\n",
        "    trainGenerator,steps_per_epoch = 43448//64,epochs = 2,callbacks=callbacks_list,validation_data = validGenerator,verbose=1,shuffle=True,class_weight='auto')"
      ],
      "execution_count": null,
      "outputs": [
        {
          "output_type": "stream",
          "text": [
            "Epoch 1/2\n",
            "678/678 [==============================] - 1028s 2s/step - loss: 3.8928 - accuracy: 0.7058 - val_loss: 7.1537 - val_accuracy: 0.4131\n",
            "\n",
            "Epoch 00001: val_accuracy improved from -inf to 0.41315, saving model to /content/Weights/weights-improvement-01-0.41.hdf5\n",
            "Epoch 2/2\n",
            "678/678 [==============================] - 1041s 2s/step - loss: 2.8666 - accuracy: 0.8218 - val_loss: 3.8445 - val_accuracy: 0.6301\n",
            "\n",
            "Epoch 00002: val_accuracy improved from 0.41315 to 0.63009, saving model to /content/Weights/weights-improvement-02-0.63.hdf5\n"
          ],
          "name": "stdout"
        }
      ]
    },
    {
      "cell_type": "code",
      "metadata": {
        "id": "6o9nVuZnk0Ef",
        "colab_type": "code",
        "colab": {
          "base_uri": "https://localhost:8080/",
          "height": 404
        },
        "outputId": "67c975a8-8f7b-4cd5-e8f6-1de1c7b882ee"
      },
      "source": [
        "acc = history.history['accuracy']\n",
        "val_acc = history.history['val_accuracy']\n",
        "loss = history.history['loss']\n",
        "val_loss = history.history['val_loss']\n",
        "epochs = range(1, len(acc) + 1)\n",
        "#Train and validation accuracy\n",
        "plt.plot(epochs, acc, 'b', label='Training accurarcy')\n",
        "plt.plot(epochs, val_acc, 'r', label='Validation accurarcy')\n",
        "plt.title('Training and Validation accurarcy')\n",
        "plt.legend()\n",
        " \n",
        "plt.figure()\n",
        "#Train and validation loss\n",
        "plt.plot(epochs, loss, 'b', label='Training loss')\n",
        "plt.plot(epochs, val_loss, 'r', label='Validation loss')\n",
        "plt.title('Training and Validation loss')\n",
        "plt.legend()\n",
        "plt.show()"
      ],
      "execution_count": null,
      "outputs": [
        {
          "output_type": "display_data",
          "data": {
            "image/png": "[encoded data removed]",
            "text/plain": [
              "<Figure size 432x288 with 1 Axes>"
            ]
          },
          "metadata": {
            "tags": [],
            "needs_background": "light"
          }
        },
        {
          "output_type": "display_data",
          "data": {
            "image/png": "[encoded data removed]",
            "text/plain": [
              "<Figure size 432x288 with 1 Axes>"
            ]
          },
          "metadata": {
            "tags": [],
            "needs_background": "light"
          }
        }
      ]
    },
    {
      "cell_type": "code",
      "metadata": {
        "id": "Cc2B5rk5nAUJ",
        "colab_type": "code",
        "colab": {
          "base_uri": "https://localhost:8080/",
          "height": 88
        },
        "outputId": "c893ecde-7328-41a5-9e9e-3c783bf33631"
      },
      "source": [
        " print(\"[INFO] Calculating model accuracy\")\n",
        "scores = model.evaluate(validGenerator)\n",
        "print(f\"Test Accuracy: {scores[1]*100}\")"
      ],
      "execution_count": null,
      "outputs": [
        {
          "output_type": "stream",
          "text": [
            "[INFO] Calculating model accuracy\n",
            "170/170 [==============================] - 175s 1s/step\n",
            "Test Accuracy: 95.3346848487854\n"
          ],
          "name": "stdout"
        }
      ]
    },
    {
      "cell_type": "code",
      "metadata": {
        "id": "AHKr64Wbsbb5",
        "colab_type": "code",
        "colab": {
          "base_uri": "https://localhost:8080/",
          "height": 34
        },
        "outputId": "b356ef24-1a6a-4219-e295-3f86c3330c85"
      },
      "source": [
        " print(\"[INFO] Saving model...\")\n",
        "model.save(\"disease2Later.h5\")"
      ],
      "execution_count": null,
      "outputs": [
        {
          "output_type": "stream",
          "text": [
            "[INFO] Saving model...\n"
          ],
          "name": "stdout"
        }
      ]
    },
    {
      "cell_type": "code",
      "metadata": {
        "id": "CrMZzrG3QU5H",
        "colab_type": "code",
        "colab": {}
      },
      "source": [
        "from keras.models import load_model\n",
        "model2 = load_model(\"disease2Later.h5\")"
      ],
      "execution_count": null,
      "outputs": []
    },
    {
      "cell_type": "code",
      "metadata": {
        "id": "Vps4Uhd9Qkzf",
        "colab_type": "code",
        "colab": {
          "base_uri": "https://localhost:8080/",
          "height": 1000
        },
        "outputId": "48d26e27-bfd7-4bbc-fc3f-8aa1b468af5c"
      },
      "source": [
        "model2.summary()"
      ],
      "execution_count": null,
      "outputs": [
        {
          "output_type": "stream",
          "text": [
            "Model: \"sequential_1\"\n",
            "_________________________________________________________________\n",
            "Layer (type)                 Output Shape              Param #   \n",
            "=================================================================\n",
            "conv_1 (Conv2D)              (None, 256, 256, 32)      896       \n",
            "_________________________________________________________________\n",
            "activation_1 (Activation)    (None, 256, 256, 32)      0         \n",
            "_________________________________________________________________\n",
            "batch_normalization_1 (Batch (None, 256, 256, 32)      128       \n",
            "_________________________________________________________________\n",
            "max_pooling2d_1 (MaxPooling2 (None, 85, 85, 32)        0         \n",
            "_________________________________________________________________\n",
            "dropout_1 (Dropout)          (None, 85, 85, 32)        0         \n",
            "_________________________________________________________________\n",
            "conv2d_1 (Conv2D)            (None, 85, 85, 64)        18496     \n",
            "_________________________________________________________________\n",
            "activation_2 (Activation)    (None, 85, 85, 64)        0         \n",
            "_________________________________________________________________\n",
            "batch_normalization_2 (Batch (None, 85, 85, 64)        256       \n",
            "_________________________________________________________________\n",
            "conv2d_2 (Conv2D)            (None, 85, 85, 64)        36928     \n",
            "_________________________________________________________________\n",
            "activation_3 (Activation)    (None, 85, 85, 64)        0         \n",
            "_________________________________________________________________\n",
            "batch_normalization_3 (Batch (None, 85, 85, 64)        256       \n",
            "_________________________________________________________________\n",
            "max_pooling2d_2 (MaxPooling2 (None, 42, 42, 64)        0         \n",
            "_________________________________________________________________\n",
            "dropout_2 (Dropout)          (None, 42, 42, 64)        0         \n",
            "_________________________________________________________________\n",
            "conv2d_3 (Conv2D)            (None, 42, 42, 128)       73856     \n",
            "_________________________________________________________________\n",
            "activation_4 (Activation)    (None, 42, 42, 128)       0         \n",
            "_________________________________________________________________\n",
            "batch_normalization_4 (Batch (None, 42, 42, 128)       512       \n",
            "_________________________________________________________________\n",
            "conv2d_4 (Conv2D)            (None, 42, 42, 128)       147584    \n",
            "_________________________________________________________________\n",
            "activation_5 (Activation)    (None, 42, 42, 128)       0         \n",
            "_________________________________________________________________\n",
            "batch_normalization_5 (Batch (None, 42, 42, 128)       512       \n",
            "_________________________________________________________________\n",
            "max_pooling2d_3 (MaxPooling2 (None, 21, 21, 128)       0         \n",
            "_________________________________________________________________\n",
            "dropout_3 (Dropout)          (None, 21, 21, 128)       0         \n",
            "_________________________________________________________________\n",
            "flatten_1 (Flatten)          (None, 56448)             0         \n",
            "_________________________________________________________________\n",
            "dense_1 (Dense)              (None, 1024)              57803776  \n",
            "_________________________________________________________________\n",
            "activation_6 (Activation)    (None, 1024)              0         \n",
            "_________________________________________________________________\n",
            "batch_normalization_6 (Batch (None, 1024)              4096      \n",
            "_________________________________________________________________\n",
            "dropout_4 (Dropout)          (None, 1024)              0         \n",
            "_________________________________________________________________\n",
            "dense_2 (Dense)              (None, 38)                38950     \n",
            "_________________________________________________________________\n",
            "activation_7 (Activation)    (None, 38)                0         \n",
            "=================================================================\n",
            "Total params: 58,126,246\n",
            "Trainable params: 58,123,366\n",
            "Non-trainable params: 2,880\n",
            "_________________________________________________________________\n"
          ],
          "name": "stdout"
        }
      ]
    },
    {
      "cell_type": "code",
      "metadata": {
        "id": "jX5nRh7dUBwH",
        "colab_type": "code",
        "colab": {}
      },
      "source": [
        "  opt = Adam(lr=INIT_LR, decay=INIT_LR / EPOCHS)\n",
        "# distribution\n",
        "model2.compile(loss=\"categorical_crossentropy\", optimizer=opt,metrics=[\"accuracy\"])"
      ],
      "execution_count": null,
      "outputs": []
    },
    {
      "cell_type": "code",
      "metadata": {
        "id": "SUBxjefhLP9_",
        "colab_type": "code",
        "colab": {
          "base_uri": "https://localhost:8080/",
          "height": 54
        },
        "outputId": "93389a5c-7acd-4634-f30e-c853266ab1b3"
      },
      "source": [
        "  validGenerator2 = dataGeneration.flow_from_directory(\n",
        "        '/content/Test',\n",
        "        target_size=(256,256),\n",
        "        class_mode='categorical',\n",
        "        shuffle=True,\n",
        "        subset='validation')"
      ],
      "execution_count": null,
      "outputs": [
        {
          "output_type": "stream",
          "text": [
            "Found 0 images belonging to 0 classes.\n"
          ],
          "name": "stdout"
        }
      ]
    },
    {
      "cell_type": "code",
      "metadata": {
        "id": "GQXjc7DFJDlL",
        "colab_type": "code",
        "colab": {
          "base_uri": "https://localhost:8080/",
          "height": 88
        },
        "outputId": "c444073c-57c8-4f08-a039-544d6c084b99"
      },
      "source": [
        " print(\"[INFO] Calculating model accuracy\")\n",
        "scores = model2.evaluate(validGenerator)\n",
        "print(f\"Test Accuracy: {scores[1]*100}\")"
      ],
      "execution_count": null,
      "outputs": [
        {
          "output_type": "stream",
          "text": [
            "[INFO] Calculating model accuracy\n",
            "170/170 [==============================] - 179s 1s/step\n",
            "Test Accuracy: 63.01862597465515\n"
          ],
          "name": "stdout"
        }
      ]
    },
    {
      "cell_type": "code",
      "metadata": {
        "id": "D4werOH2pWqi",
        "colab_type": "code",
        "colab": {}
      },
      "source": [
        "imagePath = listdir('/content/Test')"
      ],
      "execution_count": null,
      "outputs": []
    },
    {
      "cell_type": "code",
      "metadata": {
        "id": "2hGN33npUR2q",
        "colab_type": "code",
        "colab": {
          "base_uri": "https://localhost:8080/",
          "height": 377
        },
        "outputId": "c06adfc7-4cd3-4742-cc92-25426b82dd53"
      },
      "source": [
        "for image in imagePath:\n",
        "    print(\"[IMAGE] : \"+str(image))\n",
        "    path = '/content/Test/'+image\n",
        "    img = cv2.imread(path)\n",
        "    img = cv2.resize(img,(256,256))\n",
        " \n",
        "    img = np.reshape(img,[1,256,256,3])\n",
        "    img = img/255\n",
        "    cl = model.predict_classes(img)\n",
        "    print(\"[CLASS] : \"+str(cl[0]))"
      ],
      "execution_count": null,
      "outputs": [
        {
          "output_type": "stream",
          "text": [
            "[IMAGE] : 83714953-4eba-4075-898a-b215d86a3989___RS_HL 5616.JPG\n",
            "[CLASS] : 24\n",
            "[IMAGE] : 9d879873-2f64-473a-8c76-72ad55131402___FREC_Pwd.M 4800.JPG\n",
            "[CLASS] : 31\n",
            "[IMAGE] : 78c968a3-8083-4924-b351-3f36569cf33a___PSU_CG 2214.JPG\n",
            "[CLASS] : 36\n",
            "[IMAGE] : b06117a8-6ca6-4b82-96cf-07604beb8f1b___JR_HL 5906.JPG\n",
            "[CLASS] : 24\n",
            "[IMAGE] : c5ab9d87-f1bf-4fce-8133-c80ac2d52dd5___RS_Erly.B 7849.JPG\n",
            "[CLASS] : 37\n",
            "[IMAGE] : 867d1311-1976-4387-8fb0-28c9ce135f0b___R.S_HL 0595 copy.jpg\n",
            "[CLASS] : 24\n",
            "[IMAGE] : a3b588f0-1c34-4a1e-ad47-c2202a896173___RS_NLB 3834.JPG\n",
            "[CLASS] : 24\n",
            "[IMAGE] : 6941b868-48df-4f58-9b34-4bc9d9e82867___JR_FrgE.S 8668.JPG\n",
            "[CLASS] : 24\n",
            "[IMAGE] : fbac63f2-cfbc-4c5c-a623-e40b1314fc83___Com.G_SpM_FL 8784.JPG\n",
            "[CLASS] : 24\n",
            "[IMAGE] : e17f9151-51a0-417d-a7c6-9ad9a2cce0d9___Mt.N.V_HL 9053.JPG\n",
            "[CLASS] : 32\n"
          ],
          "name": "stdout"
        }
      ]
    },
    {
      "cell_type": "code",
      "metadata": {
        "id": "1-0GL-RECuM0",
        "colab_type": "code",
        "colab": {}
      },
      "source": [
        ""
      ],
      "execution_count": null,
      "outputs": []
    },
    {
      "cell_type": "code",
      "metadata": {
        "id": "29qKdd7FBVdp",
        "colab_type": "code",
        "colab": {}
      },
      "source": [
        "import pandas as pd"
      ],
      "execution_count": null,
      "outputs": []
    }
  ]
}